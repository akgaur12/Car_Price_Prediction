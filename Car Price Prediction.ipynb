{
 "cells": [
  {
   "cell_type": "markdown",
   "id": "4d8264df",
   "metadata": {},
   "source": [
    "<img src='./car.png' style='height: 260px; width:1100px'>"
   ]
  },
  {
   "cell_type": "markdown",
   "id": "06025b59",
   "metadata": {},
   "source": [
    "#### Importing Libraries"
   ]
  },
  {
   "cell_type": "code",
   "execution_count": 1,
   "id": "261b26f2",
   "metadata": {},
   "outputs": [],
   "source": [
    "import numpy as np\n",
    "import pandas as pd\n",
    "import seaborn as sns\n",
    "import plotly.express as px\n",
    "import matplotlib.pyplot as plt\n",
    "\n",
    "%matplotlib inline"
   ]
  },
  {
   "cell_type": "markdown",
   "id": "678a2a42",
   "metadata": {},
   "source": [
    "#### Loading Dataset"
   ]
  },
  {
   "cell_type": "code",
   "execution_count": 2,
   "id": "48ff346e",
   "metadata": {},
   "outputs": [
    {
     "data": {
      "text/html": [
       "<div>\n",
       "<style scoped>\n",
       "    .dataframe tbody tr th:only-of-type {\n",
       "        vertical-align: middle;\n",
       "    }\n",
       "\n",
       "    .dataframe tbody tr th {\n",
       "        vertical-align: top;\n",
       "    }\n",
       "\n",
       "    .dataframe thead th {\n",
       "        text-align: right;\n",
       "    }\n",
       "</style>\n",
       "<table border=\"1\" class=\"dataframe\">\n",
       "  <thead>\n",
       "    <tr style=\"text-align: right;\">\n",
       "      <th></th>\n",
       "      <th>car_ID</th>\n",
       "      <th>symboling</th>\n",
       "      <th>CarName</th>\n",
       "      <th>fueltype</th>\n",
       "      <th>aspiration</th>\n",
       "      <th>doornumber</th>\n",
       "      <th>carbody</th>\n",
       "      <th>drivewheel</th>\n",
       "      <th>enginelocation</th>\n",
       "      <th>wheelbase</th>\n",
       "      <th>...</th>\n",
       "      <th>enginesize</th>\n",
       "      <th>fuelsystem</th>\n",
       "      <th>boreratio</th>\n",
       "      <th>stroke</th>\n",
       "      <th>compressionratio</th>\n",
       "      <th>horsepower</th>\n",
       "      <th>peakrpm</th>\n",
       "      <th>citympg</th>\n",
       "      <th>highwaympg</th>\n",
       "      <th>price</th>\n",
       "    </tr>\n",
       "  </thead>\n",
       "  <tbody>\n",
       "    <tr>\n",
       "      <th>0</th>\n",
       "      <td>1</td>\n",
       "      <td>3</td>\n",
       "      <td>alfa-romero giulia</td>\n",
       "      <td>gas</td>\n",
       "      <td>std</td>\n",
       "      <td>two</td>\n",
       "      <td>convertible</td>\n",
       "      <td>rwd</td>\n",
       "      <td>front</td>\n",
       "      <td>88.6</td>\n",
       "      <td>...</td>\n",
       "      <td>130</td>\n",
       "      <td>mpfi</td>\n",
       "      <td>3.47</td>\n",
       "      <td>2.68</td>\n",
       "      <td>9.0</td>\n",
       "      <td>111</td>\n",
       "      <td>5000</td>\n",
       "      <td>21</td>\n",
       "      <td>27</td>\n",
       "      <td>13495.0</td>\n",
       "    </tr>\n",
       "    <tr>\n",
       "      <th>1</th>\n",
       "      <td>2</td>\n",
       "      <td>3</td>\n",
       "      <td>alfa-romero stelvio</td>\n",
       "      <td>gas</td>\n",
       "      <td>std</td>\n",
       "      <td>two</td>\n",
       "      <td>convertible</td>\n",
       "      <td>rwd</td>\n",
       "      <td>front</td>\n",
       "      <td>88.6</td>\n",
       "      <td>...</td>\n",
       "      <td>130</td>\n",
       "      <td>mpfi</td>\n",
       "      <td>3.47</td>\n",
       "      <td>2.68</td>\n",
       "      <td>9.0</td>\n",
       "      <td>111</td>\n",
       "      <td>5000</td>\n",
       "      <td>21</td>\n",
       "      <td>27</td>\n",
       "      <td>16500.0</td>\n",
       "    </tr>\n",
       "    <tr>\n",
       "      <th>2</th>\n",
       "      <td>3</td>\n",
       "      <td>1</td>\n",
       "      <td>alfa-romero Quadrifoglio</td>\n",
       "      <td>gas</td>\n",
       "      <td>std</td>\n",
       "      <td>two</td>\n",
       "      <td>hatchback</td>\n",
       "      <td>rwd</td>\n",
       "      <td>front</td>\n",
       "      <td>94.5</td>\n",
       "      <td>...</td>\n",
       "      <td>152</td>\n",
       "      <td>mpfi</td>\n",
       "      <td>2.68</td>\n",
       "      <td>3.47</td>\n",
       "      <td>9.0</td>\n",
       "      <td>154</td>\n",
       "      <td>5000</td>\n",
       "      <td>19</td>\n",
       "      <td>26</td>\n",
       "      <td>16500.0</td>\n",
       "    </tr>\n",
       "    <tr>\n",
       "      <th>3</th>\n",
       "      <td>4</td>\n",
       "      <td>2</td>\n",
       "      <td>audi 100 ls</td>\n",
       "      <td>gas</td>\n",
       "      <td>std</td>\n",
       "      <td>four</td>\n",
       "      <td>sedan</td>\n",
       "      <td>fwd</td>\n",
       "      <td>front</td>\n",
       "      <td>99.8</td>\n",
       "      <td>...</td>\n",
       "      <td>109</td>\n",
       "      <td>mpfi</td>\n",
       "      <td>3.19</td>\n",
       "      <td>3.40</td>\n",
       "      <td>10.0</td>\n",
       "      <td>102</td>\n",
       "      <td>5500</td>\n",
       "      <td>24</td>\n",
       "      <td>30</td>\n",
       "      <td>13950.0</td>\n",
       "    </tr>\n",
       "    <tr>\n",
       "      <th>4</th>\n",
       "      <td>5</td>\n",
       "      <td>2</td>\n",
       "      <td>audi 100ls</td>\n",
       "      <td>gas</td>\n",
       "      <td>std</td>\n",
       "      <td>four</td>\n",
       "      <td>sedan</td>\n",
       "      <td>4wd</td>\n",
       "      <td>front</td>\n",
       "      <td>99.4</td>\n",
       "      <td>...</td>\n",
       "      <td>136</td>\n",
       "      <td>mpfi</td>\n",
       "      <td>3.19</td>\n",
       "      <td>3.40</td>\n",
       "      <td>8.0</td>\n",
       "      <td>115</td>\n",
       "      <td>5500</td>\n",
       "      <td>18</td>\n",
       "      <td>22</td>\n",
       "      <td>17450.0</td>\n",
       "    </tr>\n",
       "  </tbody>\n",
       "</table>\n",
       "<p>5 rows × 26 columns</p>\n",
       "</div>"
      ],
      "text/plain": [
       "   car_ID  symboling                   CarName fueltype aspiration doornumber  \\\n",
       "0       1          3        alfa-romero giulia      gas        std        two   \n",
       "1       2          3       alfa-romero stelvio      gas        std        two   \n",
       "2       3          1  alfa-romero Quadrifoglio      gas        std        two   \n",
       "3       4          2               audi 100 ls      gas        std       four   \n",
       "4       5          2                audi 100ls      gas        std       four   \n",
       "\n",
       "       carbody drivewheel enginelocation  wheelbase  ...  enginesize  \\\n",
       "0  convertible        rwd          front       88.6  ...         130   \n",
       "1  convertible        rwd          front       88.6  ...         130   \n",
       "2    hatchback        rwd          front       94.5  ...         152   \n",
       "3        sedan        fwd          front       99.8  ...         109   \n",
       "4        sedan        4wd          front       99.4  ...         136   \n",
       "\n",
       "   fuelsystem  boreratio  stroke compressionratio horsepower  peakrpm citympg  \\\n",
       "0        mpfi       3.47    2.68              9.0        111     5000      21   \n",
       "1        mpfi       3.47    2.68              9.0        111     5000      21   \n",
       "2        mpfi       2.68    3.47              9.0        154     5000      19   \n",
       "3        mpfi       3.19    3.40             10.0        102     5500      24   \n",
       "4        mpfi       3.19    3.40              8.0        115     5500      18   \n",
       "\n",
       "   highwaympg    price  \n",
       "0          27  13495.0  \n",
       "1          27  16500.0  \n",
       "2          26  16500.0  \n",
       "3          30  13950.0  \n",
       "4          22  17450.0  \n",
       "\n",
       "[5 rows x 26 columns]"
      ]
     },
     "execution_count": 2,
     "metadata": {},
     "output_type": "execute_result"
    }
   ],
   "source": [
    "car_df = pd.read_csv(\"CarPrice_Assignment.csv\")\n",
    "car_df.head()"
   ]
  },
  {
   "cell_type": "markdown",
   "id": "9be2a6bb",
   "metadata": {},
   "source": [
    "## Data Cleaning & EDA"
   ]
  },
  {
   "cell_type": "code",
   "execution_count": 3,
   "id": "64381365",
   "metadata": {},
   "outputs": [
    {
     "data": {
      "text/plain": [
       "(205, 26)"
      ]
     },
     "execution_count": 3,
     "metadata": {},
     "output_type": "execute_result"
    }
   ],
   "source": [
    "car_df.shape"
   ]
  },
  {
   "cell_type": "code",
   "execution_count": 4,
   "id": "ce9626a7",
   "metadata": {},
   "outputs": [
    {
     "data": {
      "text/html": [
       "<div>\n",
       "<style scoped>\n",
       "    .dataframe tbody tr th:only-of-type {\n",
       "        vertical-align: middle;\n",
       "    }\n",
       "\n",
       "    .dataframe tbody tr th {\n",
       "        vertical-align: top;\n",
       "    }\n",
       "\n",
       "    .dataframe thead th {\n",
       "        text-align: right;\n",
       "    }\n",
       "</style>\n",
       "<table border=\"1\" class=\"dataframe\">\n",
       "  <thead>\n",
       "    <tr style=\"text-align: right;\">\n",
       "      <th></th>\n",
       "      <th>CarName</th>\n",
       "      <th>fueltype</th>\n",
       "      <th>aspiration</th>\n",
       "      <th>doornumber</th>\n",
       "      <th>carbody</th>\n",
       "      <th>drivewheel</th>\n",
       "      <th>enginelocation</th>\n",
       "      <th>wheelbase</th>\n",
       "      <th>carlength</th>\n",
       "      <th>carwidth</th>\n",
       "      <th>curbweight</th>\n",
       "      <th>enginetype</th>\n",
       "      <th>cylindernumber</th>\n",
       "      <th>enginesize</th>\n",
       "      <th>fuelsystem</th>\n",
       "      <th>boreratio</th>\n",
       "      <th>horsepower</th>\n",
       "      <th>citympg</th>\n",
       "      <th>highwaympg</th>\n",
       "      <th>price</th>\n",
       "    </tr>\n",
       "  </thead>\n",
       "  <tbody>\n",
       "    <tr>\n",
       "      <th>0</th>\n",
       "      <td>alfa-romero giulia</td>\n",
       "      <td>gas</td>\n",
       "      <td>std</td>\n",
       "      <td>two</td>\n",
       "      <td>convertible</td>\n",
       "      <td>rwd</td>\n",
       "      <td>front</td>\n",
       "      <td>88.6</td>\n",
       "      <td>168.8</td>\n",
       "      <td>64.1</td>\n",
       "      <td>2548</td>\n",
       "      <td>dohc</td>\n",
       "      <td>four</td>\n",
       "      <td>130</td>\n",
       "      <td>mpfi</td>\n",
       "      <td>3.47</td>\n",
       "      <td>111</td>\n",
       "      <td>21</td>\n",
       "      <td>27</td>\n",
       "      <td>13495.0</td>\n",
       "    </tr>\n",
       "    <tr>\n",
       "      <th>1</th>\n",
       "      <td>alfa-romero stelvio</td>\n",
       "      <td>gas</td>\n",
       "      <td>std</td>\n",
       "      <td>two</td>\n",
       "      <td>convertible</td>\n",
       "      <td>rwd</td>\n",
       "      <td>front</td>\n",
       "      <td>88.6</td>\n",
       "      <td>168.8</td>\n",
       "      <td>64.1</td>\n",
       "      <td>2548</td>\n",
       "      <td>dohc</td>\n",
       "      <td>four</td>\n",
       "      <td>130</td>\n",
       "      <td>mpfi</td>\n",
       "      <td>3.47</td>\n",
       "      <td>111</td>\n",
       "      <td>21</td>\n",
       "      <td>27</td>\n",
       "      <td>16500.0</td>\n",
       "    </tr>\n",
       "    <tr>\n",
       "      <th>2</th>\n",
       "      <td>alfa-romero Quadrifoglio</td>\n",
       "      <td>gas</td>\n",
       "      <td>std</td>\n",
       "      <td>two</td>\n",
       "      <td>hatchback</td>\n",
       "      <td>rwd</td>\n",
       "      <td>front</td>\n",
       "      <td>94.5</td>\n",
       "      <td>171.2</td>\n",
       "      <td>65.5</td>\n",
       "      <td>2823</td>\n",
       "      <td>ohcv</td>\n",
       "      <td>six</td>\n",
       "      <td>152</td>\n",
       "      <td>mpfi</td>\n",
       "      <td>2.68</td>\n",
       "      <td>154</td>\n",
       "      <td>19</td>\n",
       "      <td>26</td>\n",
       "      <td>16500.0</td>\n",
       "    </tr>\n",
       "    <tr>\n",
       "      <th>3</th>\n",
       "      <td>audi 100 ls</td>\n",
       "      <td>gas</td>\n",
       "      <td>std</td>\n",
       "      <td>four</td>\n",
       "      <td>sedan</td>\n",
       "      <td>fwd</td>\n",
       "      <td>front</td>\n",
       "      <td>99.8</td>\n",
       "      <td>176.6</td>\n",
       "      <td>66.2</td>\n",
       "      <td>2337</td>\n",
       "      <td>ohc</td>\n",
       "      <td>four</td>\n",
       "      <td>109</td>\n",
       "      <td>mpfi</td>\n",
       "      <td>3.19</td>\n",
       "      <td>102</td>\n",
       "      <td>24</td>\n",
       "      <td>30</td>\n",
       "      <td>13950.0</td>\n",
       "    </tr>\n",
       "    <tr>\n",
       "      <th>4</th>\n",
       "      <td>audi 100ls</td>\n",
       "      <td>gas</td>\n",
       "      <td>std</td>\n",
       "      <td>four</td>\n",
       "      <td>sedan</td>\n",
       "      <td>4wd</td>\n",
       "      <td>front</td>\n",
       "      <td>99.4</td>\n",
       "      <td>176.6</td>\n",
       "      <td>66.4</td>\n",
       "      <td>2824</td>\n",
       "      <td>ohc</td>\n",
       "      <td>five</td>\n",
       "      <td>136</td>\n",
       "      <td>mpfi</td>\n",
       "      <td>3.19</td>\n",
       "      <td>115</td>\n",
       "      <td>18</td>\n",
       "      <td>22</td>\n",
       "      <td>17450.0</td>\n",
       "    </tr>\n",
       "  </tbody>\n",
       "</table>\n",
       "</div>"
      ],
      "text/plain": [
       "                    CarName fueltype aspiration doornumber      carbody  \\\n",
       "0        alfa-romero giulia      gas        std        two  convertible   \n",
       "1       alfa-romero stelvio      gas        std        two  convertible   \n",
       "2  alfa-romero Quadrifoglio      gas        std        two    hatchback   \n",
       "3               audi 100 ls      gas        std       four        sedan   \n",
       "4                audi 100ls      gas        std       four        sedan   \n",
       "\n",
       "  drivewheel enginelocation  wheelbase  carlength  carwidth  curbweight  \\\n",
       "0        rwd          front       88.6      168.8      64.1        2548   \n",
       "1        rwd          front       88.6      168.8      64.1        2548   \n",
       "2        rwd          front       94.5      171.2      65.5        2823   \n",
       "3        fwd          front       99.8      176.6      66.2        2337   \n",
       "4        4wd          front       99.4      176.6      66.4        2824   \n",
       "\n",
       "  enginetype cylindernumber  enginesize fuelsystem  boreratio  horsepower  \\\n",
       "0       dohc           four         130       mpfi       3.47         111   \n",
       "1       dohc           four         130       mpfi       3.47         111   \n",
       "2       ohcv            six         152       mpfi       2.68         154   \n",
       "3        ohc           four         109       mpfi       3.19         102   \n",
       "4        ohc           five         136       mpfi       3.19         115   \n",
       "\n",
       "   citympg  highwaympg    price  \n",
       "0       21          27  13495.0  \n",
       "1       21          27  16500.0  \n",
       "2       19          26  16500.0  \n",
       "3       24          30  13950.0  \n",
       "4       18          22  17450.0  "
      ]
     },
     "execution_count": 4,
     "metadata": {},
     "output_type": "execute_result"
    }
   ],
   "source": [
    "car_df.drop(columns=[\"car_ID\", \"symboling\", \"carheight\", \"stroke\", \"compressionratio\", \"peakrpm\"], inplace=True)\n",
    "car_df.head()"
   ]
  },
  {
   "cell_type": "code",
   "execution_count": 5,
   "id": "31a5659a",
   "metadata": {},
   "outputs": [
    {
     "data": {
      "text/plain": [
       "(205, 20)"
      ]
     },
     "execution_count": 5,
     "metadata": {},
     "output_type": "execute_result"
    }
   ],
   "source": [
    "car_df.shape"
   ]
  },
  {
   "cell_type": "code",
   "execution_count": 6,
   "id": "e3d0f8be",
   "metadata": {},
   "outputs": [
    {
     "data": {
      "text/plain": [
       "CarName           0\n",
       "fueltype          0\n",
       "aspiration        0\n",
       "doornumber        0\n",
       "carbody           0\n",
       "drivewheel        0\n",
       "enginelocation    0\n",
       "wheelbase         0\n",
       "carlength         0\n",
       "carwidth          0\n",
       "curbweight        0\n",
       "enginetype        0\n",
       "cylindernumber    0\n",
       "enginesize        0\n",
       "fuelsystem        0\n",
       "boreratio         0\n",
       "horsepower        0\n",
       "citympg           0\n",
       "highwaympg        0\n",
       "price             0\n",
       "dtype: int64"
      ]
     },
     "execution_count": 6,
     "metadata": {},
     "output_type": "execute_result"
    }
   ],
   "source": [
    "car_df.isnull().sum()"
   ]
  },
  {
   "cell_type": "code",
   "execution_count": 7,
   "id": "765bc349",
   "metadata": {},
   "outputs": [
    {
     "data": {
      "text/html": [
       "<div>\n",
       "<style scoped>\n",
       "    .dataframe tbody tr th:only-of-type {\n",
       "        vertical-align: middle;\n",
       "    }\n",
       "\n",
       "    .dataframe tbody tr th {\n",
       "        vertical-align: top;\n",
       "    }\n",
       "\n",
       "    .dataframe thead th {\n",
       "        text-align: right;\n",
       "    }\n",
       "</style>\n",
       "<table border=\"1\" class=\"dataframe\">\n",
       "  <thead>\n",
       "    <tr style=\"text-align: right;\">\n",
       "      <th></th>\n",
       "      <th>wheelbase</th>\n",
       "      <th>carlength</th>\n",
       "      <th>carwidth</th>\n",
       "      <th>curbweight</th>\n",
       "      <th>enginesize</th>\n",
       "      <th>boreratio</th>\n",
       "      <th>horsepower</th>\n",
       "      <th>citympg</th>\n",
       "      <th>highwaympg</th>\n",
       "      <th>price</th>\n",
       "    </tr>\n",
       "  </thead>\n",
       "  <tbody>\n",
       "    <tr>\n",
       "      <th>count</th>\n",
       "      <td>205.000000</td>\n",
       "      <td>205.000000</td>\n",
       "      <td>205.000000</td>\n",
       "      <td>205.000000</td>\n",
       "      <td>205.000000</td>\n",
       "      <td>205.000000</td>\n",
       "      <td>205.000000</td>\n",
       "      <td>205.000000</td>\n",
       "      <td>205.000000</td>\n",
       "      <td>205.000000</td>\n",
       "    </tr>\n",
       "    <tr>\n",
       "      <th>mean</th>\n",
       "      <td>98.756585</td>\n",
       "      <td>174.049268</td>\n",
       "      <td>65.907805</td>\n",
       "      <td>2555.565854</td>\n",
       "      <td>126.907317</td>\n",
       "      <td>3.329756</td>\n",
       "      <td>104.117073</td>\n",
       "      <td>25.219512</td>\n",
       "      <td>30.751220</td>\n",
       "      <td>13276.710571</td>\n",
       "    </tr>\n",
       "    <tr>\n",
       "      <th>std</th>\n",
       "      <td>6.021776</td>\n",
       "      <td>12.337289</td>\n",
       "      <td>2.145204</td>\n",
       "      <td>520.680204</td>\n",
       "      <td>41.642693</td>\n",
       "      <td>0.270844</td>\n",
       "      <td>39.544167</td>\n",
       "      <td>6.542142</td>\n",
       "      <td>6.886443</td>\n",
       "      <td>7988.852332</td>\n",
       "    </tr>\n",
       "    <tr>\n",
       "      <th>min</th>\n",
       "      <td>86.600000</td>\n",
       "      <td>141.100000</td>\n",
       "      <td>60.300000</td>\n",
       "      <td>1488.000000</td>\n",
       "      <td>61.000000</td>\n",
       "      <td>2.540000</td>\n",
       "      <td>48.000000</td>\n",
       "      <td>13.000000</td>\n",
       "      <td>16.000000</td>\n",
       "      <td>5118.000000</td>\n",
       "    </tr>\n",
       "    <tr>\n",
       "      <th>25%</th>\n",
       "      <td>94.500000</td>\n",
       "      <td>166.300000</td>\n",
       "      <td>64.100000</td>\n",
       "      <td>2145.000000</td>\n",
       "      <td>97.000000</td>\n",
       "      <td>3.150000</td>\n",
       "      <td>70.000000</td>\n",
       "      <td>19.000000</td>\n",
       "      <td>25.000000</td>\n",
       "      <td>7788.000000</td>\n",
       "    </tr>\n",
       "    <tr>\n",
       "      <th>50%</th>\n",
       "      <td>97.000000</td>\n",
       "      <td>173.200000</td>\n",
       "      <td>65.500000</td>\n",
       "      <td>2414.000000</td>\n",
       "      <td>120.000000</td>\n",
       "      <td>3.310000</td>\n",
       "      <td>95.000000</td>\n",
       "      <td>24.000000</td>\n",
       "      <td>30.000000</td>\n",
       "      <td>10295.000000</td>\n",
       "    </tr>\n",
       "    <tr>\n",
       "      <th>75%</th>\n",
       "      <td>102.400000</td>\n",
       "      <td>183.100000</td>\n",
       "      <td>66.900000</td>\n",
       "      <td>2935.000000</td>\n",
       "      <td>141.000000</td>\n",
       "      <td>3.580000</td>\n",
       "      <td>116.000000</td>\n",
       "      <td>30.000000</td>\n",
       "      <td>34.000000</td>\n",
       "      <td>16503.000000</td>\n",
       "    </tr>\n",
       "    <tr>\n",
       "      <th>max</th>\n",
       "      <td>120.900000</td>\n",
       "      <td>208.100000</td>\n",
       "      <td>72.300000</td>\n",
       "      <td>4066.000000</td>\n",
       "      <td>326.000000</td>\n",
       "      <td>3.940000</td>\n",
       "      <td>288.000000</td>\n",
       "      <td>49.000000</td>\n",
       "      <td>54.000000</td>\n",
       "      <td>45400.000000</td>\n",
       "    </tr>\n",
       "  </tbody>\n",
       "</table>\n",
       "</div>"
      ],
      "text/plain": [
       "        wheelbase   carlength    carwidth   curbweight  enginesize  \\\n",
       "count  205.000000  205.000000  205.000000   205.000000  205.000000   \n",
       "mean    98.756585  174.049268   65.907805  2555.565854  126.907317   \n",
       "std      6.021776   12.337289    2.145204   520.680204   41.642693   \n",
       "min     86.600000  141.100000   60.300000  1488.000000   61.000000   \n",
       "25%     94.500000  166.300000   64.100000  2145.000000   97.000000   \n",
       "50%     97.000000  173.200000   65.500000  2414.000000  120.000000   \n",
       "75%    102.400000  183.100000   66.900000  2935.000000  141.000000   \n",
       "max    120.900000  208.100000   72.300000  4066.000000  326.000000   \n",
       "\n",
       "        boreratio  horsepower     citympg  highwaympg         price  \n",
       "count  205.000000  205.000000  205.000000  205.000000    205.000000  \n",
       "mean     3.329756  104.117073   25.219512   30.751220  13276.710571  \n",
       "std      0.270844   39.544167    6.542142    6.886443   7988.852332  \n",
       "min      2.540000   48.000000   13.000000   16.000000   5118.000000  \n",
       "25%      3.150000   70.000000   19.000000   25.000000   7788.000000  \n",
       "50%      3.310000   95.000000   24.000000   30.000000  10295.000000  \n",
       "75%      3.580000  116.000000   30.000000   34.000000  16503.000000  \n",
       "max      3.940000  288.000000   49.000000   54.000000  45400.000000  "
      ]
     },
     "execution_count": 7,
     "metadata": {},
     "output_type": "execute_result"
    }
   ],
   "source": [
    "car_df.describe()"
   ]
  },
  {
   "cell_type": "code",
   "execution_count": 8,
   "id": "10eacb52",
   "metadata": {},
   "outputs": [
    {
     "name": "stdout",
     "output_type": "stream",
     "text": [
      "fueltype \t ['gas' 'diesel']\n",
      "aspiration \t ['std' 'turbo']\n",
      "doornumber \t ['two' 'four']\n",
      "carbody \t ['convertible' 'hatchback' 'sedan' 'wagon' 'hardtop']\n",
      "drivewheel \t ['rwd' 'fwd' '4wd']\n",
      "enginelocation \t ['front' 'rear']\n",
      "enginetype \t ['dohc' 'ohcv' 'ohc' 'l' 'rotor' 'ohcf' 'dohcv']\n",
      "cylindernumber \t ['four' 'six' 'five' 'three' 'twelve' 'two' 'eight']\n",
      "fuelsystem \t ['mpfi' '2bbl' 'mfi' '1bbl' 'spfi' '4bbl' 'idi' 'spdi']\n"
     ]
    }
   ],
   "source": [
    "cat_features = []\n",
    "for i in [1, 2, 3, 4, 5, 6, 11, 12, 14]:\n",
    "    print(f\"{car_df.columns[i]} \\t {car_df[car_df.columns[i]].unique()}\")\n",
    "    cat_features.append(car_df.columns[i])\n",
    "    \n",
    "cat_features.append(\"CarName\")"
   ]
  },
  {
   "cell_type": "code",
   "execution_count": 9,
   "id": "9ae84836",
   "metadata": {},
   "outputs": [
    {
     "data": {
      "text/plain": [
       "fwd    120\n",
       "rwd     76\n",
       "4wd      9\n",
       "Name: drivewheel, dtype: int64"
      ]
     },
     "execution_count": 9,
     "metadata": {},
     "output_type": "execute_result"
    }
   ],
   "source": [
    "car_df[\"drivewheel\"].value_counts()"
   ]
  },
  {
   "cell_type": "code",
   "execution_count": 10,
   "id": "4f723279",
   "metadata": {},
   "outputs": [
    {
     "data": {
      "text/plain": [
       "fwd    129\n",
       "rwd     76\n",
       "Name: drivewheel, dtype: int64"
      ]
     },
     "execution_count": 10,
     "metadata": {},
     "output_type": "execute_result"
    }
   ],
   "source": [
    "car_df[\"drivewheel\"] = car_df[\"drivewheel\"].replace('4wd', 'fwd')\n",
    "car_df[\"drivewheel\"].value_counts()"
   ]
  },
  {
   "cell_type": "code",
   "execution_count": 11,
   "id": "8aeea7b5",
   "metadata": {},
   "outputs": [
    {
     "data": {
      "text/plain": [
       "<AxesSubplot:>"
      ]
     },
     "execution_count": 11,
     "metadata": {},
     "output_type": "execute_result"
    },
    {
     "data": {
      "image/png": "[encoded data removed]",
      "text/plain": [
       "<Figure size 1200x500 with 2 Axes>"
      ]
     },
     "metadata": {},
     "output_type": "display_data"
    }
   ],
   "source": [
    "plt.figure(figsize=(12, 5))\n",
    "sns.heatmap(car_df.corr(), cmap=\"YlOrRd\", annot=True, lw=0.5)"
   ]
  },
  {
   "cell_type": "markdown",
   "id": "606e3c5c",
   "metadata": {},
   "source": [
    "## Model Training"
   ]
  },
  {
   "cell_type": "markdown",
   "id": "663f5499",
   "metadata": {},
   "source": [
    "#### Importing ML Libraries"
   ]
  },
  {
   "cell_type": "code",
   "execution_count": 12,
   "id": "48f5d82a",
   "metadata": {},
   "outputs": [],
   "source": [
    "from sklearn.model_selection import train_test_split\n",
    "from sklearn import metrics\n",
    "from sklearn.preprocessing import OneHotEncoder\n",
    "from sklearn.compose import make_column_transformer\n",
    "from sklearn.pipeline import make_pipeline"
   ]
  },
  {
   "cell_type": "markdown",
   "id": "5d053ab1",
   "metadata": {},
   "source": [
    "#### Setting Configuration for Pipeline Diagram"
   ]
  },
  {
   "cell_type": "code",
   "execution_count": 13,
   "id": "2ce042c9",
   "metadata": {},
   "outputs": [],
   "source": [
    "from sklearn import set_config\n",
    "set_config(display='diagram')"
   ]
  },
  {
   "cell_type": "markdown",
   "id": "4acffb33",
   "metadata": {},
   "source": [
    "#### Dividing data into dependent and independent features"
   ]
  },
  {
   "cell_type": "code",
   "execution_count": 14,
   "id": "e512ccc2",
   "metadata": {},
   "outputs": [
    {
     "name": "stdout",
     "output_type": "stream",
     "text": [
      "(205, 19)\n",
      "(205,)\n"
     ]
    }
   ],
   "source": [
    "X = car_df.iloc[:, :19]\n",
    "y = car_df.iloc[:, -1]\n",
    "\n",
    "print(X.shape)\n",
    "print(y.shape)"
   ]
  },
  {
   "cell_type": "markdown",
   "id": "57dc7157",
   "metadata": {},
   "source": [
    "#### Dividing data into training and testing set"
   ]
  },
  {
   "cell_type": "code",
   "execution_count": 15,
   "id": "b87afbdb",
   "metadata": {},
   "outputs": [
    {
     "name": "stdout",
     "output_type": "stream",
     "text": [
      "(164, 19)\n",
      "(41, 19)\n",
      "(164,)\n",
      "(41,)\n"
     ]
    }
   ],
   "source": [
    "X_train, X_test, y_train, y_test = train_test_split(X, y, test_size=0.20, random_state=42)\n",
    "\n",
    "print(X_train.shape)\n",
    "print(X_test.shape)\n",
    "print(y_train.shape)\n",
    "print(y_test.shape)"
   ]
  },
  {
   "cell_type": "markdown",
   "id": "08b0e3a6",
   "metadata": {},
   "source": [
    "#### OneHotEncoding"
   ]
  },
  {
   "cell_type": "code",
   "execution_count": 16,
   "id": "3c585cc4",
   "metadata": {},
   "outputs": [],
   "source": [
    "ohe = OneHotEncoder()\n",
    "ohe.fit(X[cat_features])\n",
    "\n",
    "trf1 = make_column_transformer(\n",
    "    (OneHotEncoder(categories=ohe.categories_), cat_features),\n",
    "    remainder='passthrough'\n",
    ")"
   ]
  },
  {
   "cell_type": "markdown",
   "id": "0cfc9501",
   "metadata": {},
   "source": [
    "## Linear Regression"
   ]
  },
  {
   "cell_type": "code",
   "execution_count": 17,
   "id": "6da96202",
   "metadata": {},
   "outputs": [
    {
     "data": {
      "text/html": [
       "<style>#sk-13c2ee55-0653-4b90-bf37-45e36b451dd0 {color: black;background-color: white;}#sk-13c2ee55-0653-4b90-bf37-45e36b451dd0 pre{padding: 0;}#sk-13c2ee55-0653-4b90-bf37-45e36b451dd0 div.sk-toggleable {background-color: white;}#sk-13c2ee55-0653-4b90-bf37-45e36b451dd0 label.sk-toggleable__label {cursor: pointer;display: block;width: 100%;margin-bottom: 0;padding: 0.3em;box-sizing: border-box;text-align: center;}#sk-13c2ee55-0653-4b90-bf37-45e36b451dd0 label.sk-toggleable__label-arrow:before {content: \"▸\";float: left;margin-right: 0.25em;color: #696969;}#sk-13c2ee55-0653-4b90-bf37-45e36b451dd0 label.sk-toggleable__label-arrow:hover:before {color: black;}#sk-13c2ee55-0653-4b90-bf37-45e36b451dd0 div.sk-estimator:hover label.sk-toggleable__label-arrow:before {color: black;}#sk-13c2ee55-0653-4b90-bf37-45e36b451dd0 div.sk-toggleable__content {max-height: 0;max-width: 0;overflow: hidden;text-align: left;background-color: #f0f8ff;}#sk-13c2ee55-0653-4b90-bf37-45e36b451dd0 div.sk-toggleable__content pre {margin: 0.2em;color: black;border-radius: 0.25em;background-color: #f0f8ff;}#sk-13c2ee55-0653-4b90-bf37-45e36b451dd0 input.sk-toggleable__control:checked~div.sk-toggleable__content {max-height: 200px;max-width: 100%;overflow: auto;}#sk-13c2ee55-0653-4b90-bf37-45e36b451dd0 input.sk-toggleable__control:checked~label.sk-toggleable__label-arrow:before {content: \"▾\";}#sk-13c2ee55-0653-4b90-bf37-45e36b451dd0 div.sk-estimator input.sk-toggleable__control:checked~label.sk-toggleable__label {background-color: #d4ebff;}#sk-13c2ee55-0653-4b90-bf37-45e36b451dd0 div.sk-label input.sk-toggleable__control:checked~label.sk-toggleable__label {background-color: #d4ebff;}#sk-13c2ee55-0653-4b90-bf37-45e36b451dd0 input.sk-hidden--visually {border: 0;clip: rect(1px 1px 1px 1px);clip: rect(1px, 1px, 1px, 1px);height: 1px;margin: -1px;overflow: hidden;padding: 0;position: absolute;width: 1px;}#sk-13c2ee55-0653-4b90-bf37-45e36b451dd0 div.sk-estimator {font-family: monospace;background-color: #f0f8ff;border: 1px dotted black;border-radius: 0.25em;box-sizing: border-box;margin-bottom: 0.5em;}#sk-13c2ee55-0653-4b90-bf37-45e36b451dd0 div.sk-estimator:hover {background-color: #d4ebff;}#sk-13c2ee55-0653-4b90-bf37-45e36b451dd0 div.sk-parallel-item::after {content: \"\";width: 100%;border-bottom: 1px solid gray;flex-grow: 1;}#sk-13c2ee55-0653-4b90-bf37-45e36b451dd0 div.sk-label:hover label.sk-toggleable__label {background-color: #d4ebff;}#sk-13c2ee55-0653-4b90-bf37-45e36b451dd0 div.sk-serial::before {content: \"\";position: absolute;border-left: 1px solid gray;box-sizing: border-box;top: 2em;bottom: 0;left: 50%;}#sk-13c2ee55-0653-4b90-bf37-45e36b451dd0 div.sk-serial {display: flex;flex-direction: column;align-items: center;background-color: white;padding-right: 0.2em;padding-left: 0.2em;}#sk-13c2ee55-0653-4b90-bf37-45e36b451dd0 div.sk-item {z-index: 1;}#sk-13c2ee55-0653-4b90-bf37-45e36b451dd0 div.sk-parallel {display: flex;align-items: stretch;justify-content: center;background-color: white;}#sk-13c2ee55-0653-4b90-bf37-45e36b451dd0 div.sk-parallel::before {content: \"\";position: absolute;border-left: 1px solid gray;box-sizing: border-box;top: 2em;bottom: 0;left: 50%;}#sk-13c2ee55-0653-4b90-bf37-45e36b451dd0 div.sk-parallel-item {display: flex;flex-direction: column;position: relative;background-color: white;}#sk-13c2ee55-0653-4b90-bf37-45e36b451dd0 div.sk-parallel-item:first-child::after {align-self: flex-end;width: 50%;}#sk-13c2ee55-0653-4b90-bf37-45e36b451dd0 div.sk-parallel-item:last-child::after {align-self: flex-start;width: 50%;}#sk-13c2ee55-0653-4b90-bf37-45e36b451dd0 div.sk-parallel-item:only-child::after {width: 0;}#sk-13c2ee55-0653-4b90-bf37-45e36b451dd0 div.sk-dashed-wrapped {border: 1px dashed gray;margin: 0 0.4em 0.5em 0.4em;box-sizing: border-box;padding-bottom: 0.4em;background-color: white;position: relative;}#sk-13c2ee55-0653-4b90-bf37-45e36b451dd0 div.sk-label label {font-family: monospace;font-weight: bold;background-color: white;display: inline-block;line-height: 1.2em;}#sk-13c2ee55-0653-4b90-bf37-45e36b451dd0 div.sk-label-container {position: relative;z-index: 2;text-align: center;}#sk-13c2ee55-0653-4b90-bf37-45e36b451dd0 div.sk-container {/* jupyter's `normalize.less` sets `[hidden] { display: none; }` but bootstrap.min.css set `[hidden] { display: none !important; }` so we also need the `!important` here to be able to override the default hidden behavior on the sphinx rendered scikit-learn.org. See: https://github.com/scikit-learn/scikit-learn/issues/21755 */display: inline-block !important;position: relative;}#sk-13c2ee55-0653-4b90-bf37-45e36b451dd0 div.sk-text-repr-fallback {display: none;}</style><div id=\"sk-13c2ee55-0653-4b90-bf37-45e36b451dd0\" class=\"sk-top-container\"><div class=\"sk-text-repr-fallback\"><pre>Pipeline(steps=[(&#x27;columntransformer&#x27;,\n",
       "                 ColumnTransformer(remainder=&#x27;passthrough&#x27;,\n",
       "                                   transformers=[(&#x27;onehotencoder&#x27;,\n",
       "                                                  OneHotEncoder(categories=[array([&#x27;diesel&#x27;, &#x27;gas&#x27;], dtype=object),\n",
       "                                                                            array([&#x27;std&#x27;, &#x27;turbo&#x27;], dtype=object),\n",
       "                                                                            array([&#x27;four&#x27;, &#x27;two&#x27;], dtype=object),\n",
       "                                                                            array([&#x27;convertible&#x27;, &#x27;hardtop&#x27;, &#x27;hatchback&#x27;, &#x27;sedan&#x27;, &#x27;wagon&#x27;],\n",
       "      dtype=object),\n",
       "                                                                            array([&#x27;fwd&#x27;, &#x27;rwd&#x27;], dtype=object...\n",
       "       &#x27;volkswagen rabbit&#x27;, &#x27;volkswagen rabbit custom&#x27;,\n",
       "       &#x27;volkswagen super beetle&#x27;, &#x27;volkswagen type 3&#x27;, &#x27;volvo 144ea&#x27;,\n",
       "       &#x27;volvo 145e (sw)&#x27;, &#x27;volvo 244dl&#x27;, &#x27;volvo 245&#x27;, &#x27;volvo 246&#x27;,\n",
       "       &#x27;volvo 264gl&#x27;, &#x27;volvo diesel&#x27;, &#x27;vw dasher&#x27;, &#x27;vw rabbit&#x27;],\n",
       "      dtype=object)]),\n",
       "                                                  [&#x27;fueltype&#x27;, &#x27;aspiration&#x27;,\n",
       "                                                   &#x27;doornumber&#x27;, &#x27;carbody&#x27;,\n",
       "                                                   &#x27;drivewheel&#x27;,\n",
       "                                                   &#x27;enginelocation&#x27;,\n",
       "                                                   &#x27;enginetype&#x27;,\n",
       "                                                   &#x27;cylindernumber&#x27;,\n",
       "                                                   &#x27;fuelsystem&#x27;,\n",
       "                                                   &#x27;CarName&#x27;])])),\n",
       "                (&#x27;linearregression&#x27;, LinearRegression())])</pre><b>Please rerun this cell to show the HTML repr or trust the notebook.</b></div><div class=\"sk-container\" hidden><div class=\"sk-item sk-dashed-wrapped\"><div class=\"sk-label-container\"><div class=\"sk-label sk-toggleable\"><input class=\"sk-toggleable__control sk-hidden--visually\" id=\"7cdb7ad2-15ad-4ad5-a7df-1435c90e35c8\" type=\"checkbox\" ><label for=\"7cdb7ad2-15ad-4ad5-a7df-1435c90e35c8\" class=\"sk-toggleable__label sk-toggleable__label-arrow\">Pipeline</label><div class=\"sk-toggleable__content\"><pre>Pipeline(steps=[(&#x27;columntransformer&#x27;,\n",
       "                 ColumnTransformer(remainder=&#x27;passthrough&#x27;,\n",
       "                                   transformers=[(&#x27;onehotencoder&#x27;,\n",
       "                                                  OneHotEncoder(categories=[array([&#x27;diesel&#x27;, &#x27;gas&#x27;], dtype=object),\n",
       "                                                                            array([&#x27;std&#x27;, &#x27;turbo&#x27;], dtype=object),\n",
       "                                                                            array([&#x27;four&#x27;, &#x27;two&#x27;], dtype=object),\n",
       "                                                                            array([&#x27;convertible&#x27;, &#x27;hardtop&#x27;, &#x27;hatchback&#x27;, &#x27;sedan&#x27;, &#x27;wagon&#x27;],\n",
       "      dtype=object),\n",
       "                                                                            array([&#x27;fwd&#x27;, &#x27;rwd&#x27;], dtype=object...\n",
       "       &#x27;volkswagen rabbit&#x27;, &#x27;volkswagen rabbit custom&#x27;,\n",
       "       &#x27;volkswagen super beetle&#x27;, &#x27;volkswagen type 3&#x27;, &#x27;volvo 144ea&#x27;,\n",
       "       &#x27;volvo 145e (sw)&#x27;, &#x27;volvo 244dl&#x27;, &#x27;volvo 245&#x27;, &#x27;volvo 246&#x27;,\n",
       "       &#x27;volvo 264gl&#x27;, &#x27;volvo diesel&#x27;, &#x27;vw dasher&#x27;, &#x27;vw rabbit&#x27;],\n",
       "      dtype=object)]),\n",
       "                                                  [&#x27;fueltype&#x27;, &#x27;aspiration&#x27;,\n",
       "                                                   &#x27;doornumber&#x27;, &#x27;carbody&#x27;,\n",
       "                                                   &#x27;drivewheel&#x27;,\n",
       "                                                   &#x27;enginelocation&#x27;,\n",
       "                                                   &#x27;enginetype&#x27;,\n",
       "                                                   &#x27;cylindernumber&#x27;,\n",
       "                                                   &#x27;fuelsystem&#x27;,\n",
       "                                                   &#x27;CarName&#x27;])])),\n",
       "                (&#x27;linearregression&#x27;, LinearRegression())])</pre></div></div></div><div class=\"sk-serial\"><div class=\"sk-item sk-dashed-wrapped\"><div class=\"sk-label-container\"><div class=\"sk-label sk-toggleable\"><input class=\"sk-toggleable__control sk-hidden--visually\" id=\"105a7ba2-6ba0-4e68-9f2f-f79867dc50c5\" type=\"checkbox\" ><label for=\"105a7ba2-6ba0-4e68-9f2f-f79867dc50c5\" class=\"sk-toggleable__label sk-toggleable__label-arrow\">columntransformer: ColumnTransformer</label><div class=\"sk-toggleable__content\"><pre>ColumnTransformer(remainder=&#x27;passthrough&#x27;,\n",
       "                  transformers=[(&#x27;onehotencoder&#x27;,\n",
       "                                 OneHotEncoder(categories=[array([&#x27;diesel&#x27;, &#x27;gas&#x27;], dtype=object),\n",
       "                                                           array([&#x27;std&#x27;, &#x27;turbo&#x27;], dtype=object),\n",
       "                                                           array([&#x27;four&#x27;, &#x27;two&#x27;], dtype=object),\n",
       "                                                           array([&#x27;convertible&#x27;, &#x27;hardtop&#x27;, &#x27;hatchback&#x27;, &#x27;sedan&#x27;, &#x27;wagon&#x27;],\n",
       "      dtype=object),\n",
       "                                                           array([&#x27;fwd&#x27;, &#x27;rwd&#x27;], dtype=object),\n",
       "                                                           array([&#x27;front&#x27;, &#x27;rear&#x27;], dtype=object...\n",
       "       &#x27;volkswagen rabbit&#x27;, &#x27;volkswagen rabbit custom&#x27;,\n",
       "       &#x27;volkswagen super beetle&#x27;, &#x27;volkswagen type 3&#x27;, &#x27;volvo 144ea&#x27;,\n",
       "       &#x27;volvo 145e (sw)&#x27;, &#x27;volvo 244dl&#x27;, &#x27;volvo 245&#x27;, &#x27;volvo 246&#x27;,\n",
       "       &#x27;volvo 264gl&#x27;, &#x27;volvo diesel&#x27;, &#x27;vw dasher&#x27;, &#x27;vw rabbit&#x27;],\n",
       "      dtype=object)]),\n",
       "                                 [&#x27;fueltype&#x27;, &#x27;aspiration&#x27;, &#x27;doornumber&#x27;,\n",
       "                                  &#x27;carbody&#x27;, &#x27;drivewheel&#x27;, &#x27;enginelocation&#x27;,\n",
       "                                  &#x27;enginetype&#x27;, &#x27;cylindernumber&#x27;, &#x27;fuelsystem&#x27;,\n",
       "                                  &#x27;CarName&#x27;])])</pre></div></div></div><div class=\"sk-parallel\"><div class=\"sk-parallel-item\"><div class=\"sk-item\"><div class=\"sk-label-container\"><div class=\"sk-label sk-toggleable\"><input class=\"sk-toggleable__control sk-hidden--visually\" id=\"7fc66aef-5485-4c0e-860f-62dd27f5d02a\" type=\"checkbox\" ><label for=\"7fc66aef-5485-4c0e-860f-62dd27f5d02a\" class=\"sk-toggleable__label sk-toggleable__label-arrow\">onehotencoder</label><div class=\"sk-toggleable__content\"><pre>[&#x27;fueltype&#x27;, &#x27;aspiration&#x27;, &#x27;doornumber&#x27;, &#x27;carbody&#x27;, &#x27;drivewheel&#x27;, &#x27;enginelocation&#x27;, &#x27;enginetype&#x27;, &#x27;cylindernumber&#x27;, &#x27;fuelsystem&#x27;, &#x27;CarName&#x27;]</pre></div></div></div><div class=\"sk-serial\"><div class=\"sk-item\"><div class=\"sk-estimator sk-toggleable\"><input class=\"sk-toggleable__control sk-hidden--visually\" id=\"989b6720-e9ee-4e84-a8d2-803c34a91fe3\" type=\"checkbox\" ><label for=\"989b6720-e9ee-4e84-a8d2-803c34a91fe3\" class=\"sk-toggleable__label sk-toggleable__label-arrow\">OneHotEncoder</label><div class=\"sk-toggleable__content\"><pre>OneHotEncoder(categories=[array([&#x27;diesel&#x27;, &#x27;gas&#x27;], dtype=object),\n",
       "                          array([&#x27;std&#x27;, &#x27;turbo&#x27;], dtype=object),\n",
       "                          array([&#x27;four&#x27;, &#x27;two&#x27;], dtype=object),\n",
       "                          array([&#x27;convertible&#x27;, &#x27;hardtop&#x27;, &#x27;hatchback&#x27;, &#x27;sedan&#x27;, &#x27;wagon&#x27;],\n",
       "      dtype=object),\n",
       "                          array([&#x27;fwd&#x27;, &#x27;rwd&#x27;], dtype=object),\n",
       "                          array([&#x27;front&#x27;, &#x27;rear&#x27;], dtype=object),\n",
       "                          array([&#x27;dohc&#x27;, &#x27;dohcv&#x27;, &#x27;l&#x27;, &#x27;ohc&#x27;, &#x27;ohcf&#x27;, &#x27;ohcv&#x27;, &#x27;rotor&#x27;], dtype=object),\n",
       "                          ar...\n",
       "       &#x27;toyota starlet&#x27;, &#x27;toyota tercel&#x27;, &#x27;toyouta tercel&#x27;,\n",
       "       &#x27;vokswagen rabbit&#x27;, &#x27;volkswagen 1131 deluxe sedan&#x27;,\n",
       "       &#x27;volkswagen 411 (sw)&#x27;, &#x27;volkswagen dasher&#x27;, &#x27;volkswagen model 111&#x27;,\n",
       "       &#x27;volkswagen rabbit&#x27;, &#x27;volkswagen rabbit custom&#x27;,\n",
       "       &#x27;volkswagen super beetle&#x27;, &#x27;volkswagen type 3&#x27;, &#x27;volvo 144ea&#x27;,\n",
       "       &#x27;volvo 145e (sw)&#x27;, &#x27;volvo 244dl&#x27;, &#x27;volvo 245&#x27;, &#x27;volvo 246&#x27;,\n",
       "       &#x27;volvo 264gl&#x27;, &#x27;volvo diesel&#x27;, &#x27;vw dasher&#x27;, &#x27;vw rabbit&#x27;],\n",
       "      dtype=object)])</pre></div></div></div></div></div></div><div class=\"sk-parallel-item\"><div class=\"sk-item\"><div class=\"sk-label-container\"><div class=\"sk-label sk-toggleable\"><input class=\"sk-toggleable__control sk-hidden--visually\" id=\"8f4d50a6-ccf2-4b12-becf-7b90ed9f5355\" type=\"checkbox\" ><label for=\"8f4d50a6-ccf2-4b12-becf-7b90ed9f5355\" class=\"sk-toggleable__label sk-toggleable__label-arrow\">remainder</label><div class=\"sk-toggleable__content\"><pre>[&#x27;wheelbase&#x27;, &#x27;carlength&#x27;, &#x27;carwidth&#x27;, &#x27;curbweight&#x27;, &#x27;enginesize&#x27;, &#x27;boreratio&#x27;, &#x27;horsepower&#x27;, &#x27;citympg&#x27;, &#x27;highwaympg&#x27;]</pre></div></div></div><div class=\"sk-serial\"><div class=\"sk-item\"><div class=\"sk-estimator sk-toggleable\"><input class=\"sk-toggleable__control sk-hidden--visually\" id=\"dbdc6aa0-324f-4c06-94cc-8644805609a6\" type=\"checkbox\" ><label for=\"dbdc6aa0-324f-4c06-94cc-8644805609a6\" class=\"sk-toggleable__label sk-toggleable__label-arrow\">passthrough</label><div class=\"sk-toggleable__content\"><pre>passthrough</pre></div></div></div></div></div></div></div></div><div class=\"sk-item\"><div class=\"sk-estimator sk-toggleable\"><input class=\"sk-toggleable__control sk-hidden--visually\" id=\"2be971fe-b031-4e90-91e0-9a0f46f4e673\" type=\"checkbox\" ><label for=\"2be971fe-b031-4e90-91e0-9a0f46f4e673\" class=\"sk-toggleable__label sk-toggleable__label-arrow\">LinearRegression</label><div class=\"sk-toggleable__content\"><pre>LinearRegression()</pre></div></div></div></div></div></div></div>"
      ],
      "text/plain": [
       "Pipeline(steps=[('columntransformer',\n",
       "                 ColumnTransformer(remainder='passthrough',\n",
       "                                   transformers=[('onehotencoder',\n",
       "                                                  OneHotEncoder(categories=[array(['diesel', 'gas'], dtype=object),\n",
       "                                                                            array(['std', 'turbo'], dtype=object),\n",
       "                                                                            array(['four', 'two'], dtype=object),\n",
       "                                                                            array(['convertible', 'hardtop', 'hatchback', 'sedan', 'wagon'],\n",
       "      dtype=object),\n",
       "                                                                            array(['fwd', 'rwd'], dtype=object...\n",
       "       'volkswagen rabbit', 'volkswagen rabbit custom',\n",
       "       'volkswagen super beetle', 'volkswagen type 3', 'volvo 144ea',\n",
       "       'volvo 145e (sw)', 'volvo 244dl', 'volvo 245', 'volvo 246',\n",
       "       'volvo 264gl', 'volvo diesel', 'vw dasher', 'vw rabbit'],\n",
       "      dtype=object)]),\n",
       "                                                  ['fueltype', 'aspiration',\n",
       "                                                   'doornumber', 'carbody',\n",
       "                                                   'drivewheel',\n",
       "                                                   'enginelocation',\n",
       "                                                   'enginetype',\n",
       "                                                   'cylindernumber',\n",
       "                                                   'fuelsystem',\n",
       "                                                   'CarName'])])),\n",
       "                ('linearregression', LinearRegression())])"
      ]
     },
     "execution_count": 17,
     "metadata": {},
     "output_type": "execute_result"
    }
   ],
   "source": [
    "from sklearn.linear_model import LinearRegression\n",
    "\n",
    "lin_reg = LinearRegression()\n",
    "pipe_lm = make_pipeline(trf1, lin_reg)\n",
    "\n",
    "pipe_lm.fit(X_train, y_train)"
   ]
  },
  {
   "cell_type": "code",
   "execution_count": 18,
   "id": "a8b55427",
   "metadata": {},
   "outputs": [],
   "source": [
    "y_predLM = pipe_lm.predict(X_test)"
   ]
  },
  {
   "cell_type": "code",
   "execution_count": 19,
   "id": "23284a13",
   "metadata": {
    "scrolled": true
   },
   "outputs": [
    {
     "data": {
      "text/plain": [
       "0.631"
      ]
     },
     "execution_count": 19,
     "metadata": {},
     "output_type": "execute_result"
    }
   ],
   "source": [
    "r2_lm = metrics.r2_score(y_test, y_predLM).round(4)\n",
    "r2_lm"
   ]
  },
  {
   "cell_type": "code",
   "execution_count": 20,
   "id": "fda4b75b",
   "metadata": {},
   "outputs": [
    {
     "name": "stdout",
     "output_type": "stream",
     "text": [
      "MAE = 5397.359 \n",
      "RMSE = 3345.587\n"
     ]
    }
   ],
   "source": [
    "RMSE_lm = metrics.mean_absolute_error(y_test, y_predLM).round(3)\n",
    "MAE_lm = np.sqrt( metrics.mean_squared_error(y_test, y_predLM)).round(3)\n",
    "print(f\"MAE = {MAE_lm} \\nRMSE = {RMSE_lm}\")"
   ]
  },
  {
   "cell_type": "markdown",
   "id": "7631d13a",
   "metadata": {},
   "source": [
    "## Decision Tree Regressor"
   ]
  },
  {
   "cell_type": "code",
   "execution_count": 21,
   "id": "7fbf597e",
   "metadata": {},
   "outputs": [
    {
     "data": {
      "text/html": [
       "<style>#sk-bbc3a9b2-b930-4392-ad1e-795f3636dd6c {color: black;background-color: white;}#sk-bbc3a9b2-b930-4392-ad1e-795f3636dd6c pre{padding: 0;}#sk-bbc3a9b2-b930-4392-ad1e-795f3636dd6c div.sk-toggleable {background-color: white;}#sk-bbc3a9b2-b930-4392-ad1e-795f3636dd6c label.sk-toggleable__label {cursor: pointer;display: block;width: 100%;margin-bottom: 0;padding: 0.3em;box-sizing: border-box;text-align: center;}#sk-bbc3a9b2-b930-4392-ad1e-795f3636dd6c label.sk-toggleable__label-arrow:before {content: \"▸\";float: left;margin-right: 0.25em;color: #696969;}#sk-bbc3a9b2-b930-4392-ad1e-795f3636dd6c label.sk-toggleable__label-arrow:hover:before {color: black;}#sk-bbc3a9b2-b930-4392-ad1e-795f3636dd6c div.sk-estimator:hover label.sk-toggleable__label-arrow:before {color: black;}#sk-bbc3a9b2-b930-4392-ad1e-795f3636dd6c div.sk-toggleable__content {max-height: 0;max-width: 0;overflow: hidden;text-align: left;background-color: #f0f8ff;}#sk-bbc3a9b2-b930-4392-ad1e-795f3636dd6c div.sk-toggleable__content pre {margin: 0.2em;color: black;border-radius: 0.25em;background-color: #f0f8ff;}#sk-bbc3a9b2-b930-4392-ad1e-795f3636dd6c input.sk-toggleable__control:checked~div.sk-toggleable__content {max-height: 200px;max-width: 100%;overflow: auto;}#sk-bbc3a9b2-b930-4392-ad1e-795f3636dd6c input.sk-toggleable__control:checked~label.sk-toggleable__label-arrow:before {content: \"▾\";}#sk-bbc3a9b2-b930-4392-ad1e-795f3636dd6c div.sk-estimator input.sk-toggleable__control:checked~label.sk-toggleable__label {background-color: #d4ebff;}#sk-bbc3a9b2-b930-4392-ad1e-795f3636dd6c div.sk-label input.sk-toggleable__control:checked~label.sk-toggleable__label {background-color: #d4ebff;}#sk-bbc3a9b2-b930-4392-ad1e-795f3636dd6c input.sk-hidden--visually {border: 0;clip: rect(1px 1px 1px 1px);clip: rect(1px, 1px, 1px, 1px);height: 1px;margin: -1px;overflow: hidden;padding: 0;position: absolute;width: 1px;}#sk-bbc3a9b2-b930-4392-ad1e-795f3636dd6c div.sk-estimator {font-family: monospace;background-color: #f0f8ff;border: 1px dotted black;border-radius: 0.25em;box-sizing: border-box;margin-bottom: 0.5em;}#sk-bbc3a9b2-b930-4392-ad1e-795f3636dd6c div.sk-estimator:hover {background-color: #d4ebff;}#sk-bbc3a9b2-b930-4392-ad1e-795f3636dd6c div.sk-parallel-item::after {content: \"\";width: 100%;border-bottom: 1px solid gray;flex-grow: 1;}#sk-bbc3a9b2-b930-4392-ad1e-795f3636dd6c div.sk-label:hover label.sk-toggleable__label {background-color: #d4ebff;}#sk-bbc3a9b2-b930-4392-ad1e-795f3636dd6c div.sk-serial::before {content: \"\";position: absolute;border-left: 1px solid gray;box-sizing: border-box;top: 2em;bottom: 0;left: 50%;}#sk-bbc3a9b2-b930-4392-ad1e-795f3636dd6c div.sk-serial {display: flex;flex-direction: column;align-items: center;background-color: white;padding-right: 0.2em;padding-left: 0.2em;}#sk-bbc3a9b2-b930-4392-ad1e-795f3636dd6c div.sk-item {z-index: 1;}#sk-bbc3a9b2-b930-4392-ad1e-795f3636dd6c div.sk-parallel {display: flex;align-items: stretch;justify-content: center;background-color: white;}#sk-bbc3a9b2-b930-4392-ad1e-795f3636dd6c div.sk-parallel::before {content: \"\";position: absolute;border-left: 1px solid gray;box-sizing: border-box;top: 2em;bottom: 0;left: 50%;}#sk-bbc3a9b2-b930-4392-ad1e-795f3636dd6c div.sk-parallel-item {display: flex;flex-direction: column;position: relative;background-color: white;}#sk-bbc3a9b2-b930-4392-ad1e-795f3636dd6c div.sk-parallel-item:first-child::after {align-self: flex-end;width: 50%;}#sk-bbc3a9b2-b930-4392-ad1e-795f3636dd6c div.sk-parallel-item:last-child::after {align-self: flex-start;width: 50%;}#sk-bbc3a9b2-b930-4392-ad1e-795f3636dd6c div.sk-parallel-item:only-child::after {width: 0;}#sk-bbc3a9b2-b930-4392-ad1e-795f3636dd6c div.sk-dashed-wrapped {border: 1px dashed gray;margin: 0 0.4em 0.5em 0.4em;box-sizing: border-box;padding-bottom: 0.4em;background-color: white;position: relative;}#sk-bbc3a9b2-b930-4392-ad1e-795f3636dd6c div.sk-label label {font-family: monospace;font-weight: bold;background-color: white;display: inline-block;line-height: 1.2em;}#sk-bbc3a9b2-b930-4392-ad1e-795f3636dd6c div.sk-label-container {position: relative;z-index: 2;text-align: center;}#sk-bbc3a9b2-b930-4392-ad1e-795f3636dd6c div.sk-container {/* jupyter's `normalize.less` sets `[hidden] { display: none; }` but bootstrap.min.css set `[hidden] { display: none !important; }` so we also need the `!important` here to be able to override the default hidden behavior on the sphinx rendered scikit-learn.org. See: https://github.com/scikit-learn/scikit-learn/issues/21755 */display: inline-block !important;position: relative;}#sk-bbc3a9b2-b930-4392-ad1e-795f3636dd6c div.sk-text-repr-fallback {display: none;}</style><div id=\"sk-bbc3a9b2-b930-4392-ad1e-795f3636dd6c\" class=\"sk-top-container\"><div class=\"sk-text-repr-fallback\"><pre>Pipeline(steps=[(&#x27;columntransformer&#x27;,\n",
       "                 ColumnTransformer(remainder=&#x27;passthrough&#x27;,\n",
       "                                   transformers=[(&#x27;onehotencoder&#x27;,\n",
       "                                                  OneHotEncoder(categories=[array([&#x27;diesel&#x27;, &#x27;gas&#x27;], dtype=object),\n",
       "                                                                            array([&#x27;std&#x27;, &#x27;turbo&#x27;], dtype=object),\n",
       "                                                                            array([&#x27;four&#x27;, &#x27;two&#x27;], dtype=object),\n",
       "                                                                            array([&#x27;convertible&#x27;, &#x27;hardtop&#x27;, &#x27;hatchback&#x27;, &#x27;sedan&#x27;, &#x27;wagon&#x27;],\n",
       "      dtype=object),\n",
       "                                                                            array([&#x27;fwd&#x27;, &#x27;rwd&#x27;], dtype=object...\n",
       "       &#x27;volkswagen super beetle&#x27;, &#x27;volkswagen type 3&#x27;, &#x27;volvo 144ea&#x27;,\n",
       "       &#x27;volvo 145e (sw)&#x27;, &#x27;volvo 244dl&#x27;, &#x27;volvo 245&#x27;, &#x27;volvo 246&#x27;,\n",
       "       &#x27;volvo 264gl&#x27;, &#x27;volvo diesel&#x27;, &#x27;vw dasher&#x27;, &#x27;vw rabbit&#x27;],\n",
       "      dtype=object)]),\n",
       "                                                  [&#x27;fueltype&#x27;, &#x27;aspiration&#x27;,\n",
       "                                                   &#x27;doornumber&#x27;, &#x27;carbody&#x27;,\n",
       "                                                   &#x27;drivewheel&#x27;,\n",
       "                                                   &#x27;enginelocation&#x27;,\n",
       "                                                   &#x27;enginetype&#x27;,\n",
       "                                                   &#x27;cylindernumber&#x27;,\n",
       "                                                   &#x27;fuelsystem&#x27;,\n",
       "                                                   &#x27;CarName&#x27;])])),\n",
       "                (&#x27;decisiontreeregressor&#x27;, DecisionTreeRegressor())])</pre><b>Please rerun this cell to show the HTML repr or trust the notebook.</b></div><div class=\"sk-container\" hidden><div class=\"sk-item sk-dashed-wrapped\"><div class=\"sk-label-container\"><div class=\"sk-label sk-toggleable\"><input class=\"sk-toggleable__control sk-hidden--visually\" id=\"12603de3-2b84-41bf-9414-a8dda694bc0f\" type=\"checkbox\" ><label for=\"12603de3-2b84-41bf-9414-a8dda694bc0f\" class=\"sk-toggleable__label sk-toggleable__label-arrow\">Pipeline</label><div class=\"sk-toggleable__content\"><pre>Pipeline(steps=[(&#x27;columntransformer&#x27;,\n",
       "                 ColumnTransformer(remainder=&#x27;passthrough&#x27;,\n",
       "                                   transformers=[(&#x27;onehotencoder&#x27;,\n",
       "                                                  OneHotEncoder(categories=[array([&#x27;diesel&#x27;, &#x27;gas&#x27;], dtype=object),\n",
       "                                                                            array([&#x27;std&#x27;, &#x27;turbo&#x27;], dtype=object),\n",
       "                                                                            array([&#x27;four&#x27;, &#x27;two&#x27;], dtype=object),\n",
       "                                                                            array([&#x27;convertible&#x27;, &#x27;hardtop&#x27;, &#x27;hatchback&#x27;, &#x27;sedan&#x27;, &#x27;wagon&#x27;],\n",
       "      dtype=object),\n",
       "                                                                            array([&#x27;fwd&#x27;, &#x27;rwd&#x27;], dtype=object...\n",
       "       &#x27;volkswagen super beetle&#x27;, &#x27;volkswagen type 3&#x27;, &#x27;volvo 144ea&#x27;,\n",
       "       &#x27;volvo 145e (sw)&#x27;, &#x27;volvo 244dl&#x27;, &#x27;volvo 245&#x27;, &#x27;volvo 246&#x27;,\n",
       "       &#x27;volvo 264gl&#x27;, &#x27;volvo diesel&#x27;, &#x27;vw dasher&#x27;, &#x27;vw rabbit&#x27;],\n",
       "      dtype=object)]),\n",
       "                                                  [&#x27;fueltype&#x27;, &#x27;aspiration&#x27;,\n",
       "                                                   &#x27;doornumber&#x27;, &#x27;carbody&#x27;,\n",
       "                                                   &#x27;drivewheel&#x27;,\n",
       "                                                   &#x27;enginelocation&#x27;,\n",
       "                                                   &#x27;enginetype&#x27;,\n",
       "                                                   &#x27;cylindernumber&#x27;,\n",
       "                                                   &#x27;fuelsystem&#x27;,\n",
       "                                                   &#x27;CarName&#x27;])])),\n",
       "                (&#x27;decisiontreeregressor&#x27;, DecisionTreeRegressor())])</pre></div></div></div><div class=\"sk-serial\"><div class=\"sk-item sk-dashed-wrapped\"><div class=\"sk-label-container\"><div class=\"sk-label sk-toggleable\"><input class=\"sk-toggleable__control sk-hidden--visually\" id=\"3b74065a-3a3b-4ab2-8521-2530c7539bb7\" type=\"checkbox\" ><label for=\"3b74065a-3a3b-4ab2-8521-2530c7539bb7\" class=\"sk-toggleable__label sk-toggleable__label-arrow\">columntransformer: ColumnTransformer</label><div class=\"sk-toggleable__content\"><pre>ColumnTransformer(remainder=&#x27;passthrough&#x27;,\n",
       "                  transformers=[(&#x27;onehotencoder&#x27;,\n",
       "                                 OneHotEncoder(categories=[array([&#x27;diesel&#x27;, &#x27;gas&#x27;], dtype=object),\n",
       "                                                           array([&#x27;std&#x27;, &#x27;turbo&#x27;], dtype=object),\n",
       "                                                           array([&#x27;four&#x27;, &#x27;two&#x27;], dtype=object),\n",
       "                                                           array([&#x27;convertible&#x27;, &#x27;hardtop&#x27;, &#x27;hatchback&#x27;, &#x27;sedan&#x27;, &#x27;wagon&#x27;],\n",
       "      dtype=object),\n",
       "                                                           array([&#x27;fwd&#x27;, &#x27;rwd&#x27;], dtype=object),\n",
       "                                                           array([&#x27;front&#x27;, &#x27;rear&#x27;], dtype=object...\n",
       "       &#x27;volkswagen rabbit&#x27;, &#x27;volkswagen rabbit custom&#x27;,\n",
       "       &#x27;volkswagen super beetle&#x27;, &#x27;volkswagen type 3&#x27;, &#x27;volvo 144ea&#x27;,\n",
       "       &#x27;volvo 145e (sw)&#x27;, &#x27;volvo 244dl&#x27;, &#x27;volvo 245&#x27;, &#x27;volvo 246&#x27;,\n",
       "       &#x27;volvo 264gl&#x27;, &#x27;volvo diesel&#x27;, &#x27;vw dasher&#x27;, &#x27;vw rabbit&#x27;],\n",
       "      dtype=object)]),\n",
       "                                 [&#x27;fueltype&#x27;, &#x27;aspiration&#x27;, &#x27;doornumber&#x27;,\n",
       "                                  &#x27;carbody&#x27;, &#x27;drivewheel&#x27;, &#x27;enginelocation&#x27;,\n",
       "                                  &#x27;enginetype&#x27;, &#x27;cylindernumber&#x27;, &#x27;fuelsystem&#x27;,\n",
       "                                  &#x27;CarName&#x27;])])</pre></div></div></div><div class=\"sk-parallel\"><div class=\"sk-parallel-item\"><div class=\"sk-item\"><div class=\"sk-label-container\"><div class=\"sk-label sk-toggleable\"><input class=\"sk-toggleable__control sk-hidden--visually\" id=\"e94584cb-732b-47c1-9e04-8b0914dc362f\" type=\"checkbox\" ><label for=\"e94584cb-732b-47c1-9e04-8b0914dc362f\" class=\"sk-toggleable__label sk-toggleable__label-arrow\">onehotencoder</label><div class=\"sk-toggleable__content\"><pre>[&#x27;fueltype&#x27;, &#x27;aspiration&#x27;, &#x27;doornumber&#x27;, &#x27;carbody&#x27;, &#x27;drivewheel&#x27;, &#x27;enginelocation&#x27;, &#x27;enginetype&#x27;, &#x27;cylindernumber&#x27;, &#x27;fuelsystem&#x27;, &#x27;CarName&#x27;]</pre></div></div></div><div class=\"sk-serial\"><div class=\"sk-item\"><div class=\"sk-estimator sk-toggleable\"><input class=\"sk-toggleable__control sk-hidden--visually\" id=\"0235c51a-ba95-4e38-8eb9-bace61314c8b\" type=\"checkbox\" ><label for=\"0235c51a-ba95-4e38-8eb9-bace61314c8b\" class=\"sk-toggleable__label sk-toggleable__label-arrow\">OneHotEncoder</label><div class=\"sk-toggleable__content\"><pre>OneHotEncoder(categories=[array([&#x27;diesel&#x27;, &#x27;gas&#x27;], dtype=object),\n",
       "                          array([&#x27;std&#x27;, &#x27;turbo&#x27;], dtype=object),\n",
       "                          array([&#x27;four&#x27;, &#x27;two&#x27;], dtype=object),\n",
       "                          array([&#x27;convertible&#x27;, &#x27;hardtop&#x27;, &#x27;hatchback&#x27;, &#x27;sedan&#x27;, &#x27;wagon&#x27;],\n",
       "      dtype=object),\n",
       "                          array([&#x27;fwd&#x27;, &#x27;rwd&#x27;], dtype=object),\n",
       "                          array([&#x27;front&#x27;, &#x27;rear&#x27;], dtype=object),\n",
       "                          array([&#x27;dohc&#x27;, &#x27;dohcv&#x27;, &#x27;l&#x27;, &#x27;ohc&#x27;, &#x27;ohcf&#x27;, &#x27;ohcv&#x27;, &#x27;rotor&#x27;], dtype=object),\n",
       "                          ar...\n",
       "       &#x27;toyota starlet&#x27;, &#x27;toyota tercel&#x27;, &#x27;toyouta tercel&#x27;,\n",
       "       &#x27;vokswagen rabbit&#x27;, &#x27;volkswagen 1131 deluxe sedan&#x27;,\n",
       "       &#x27;volkswagen 411 (sw)&#x27;, &#x27;volkswagen dasher&#x27;, &#x27;volkswagen model 111&#x27;,\n",
       "       &#x27;volkswagen rabbit&#x27;, &#x27;volkswagen rabbit custom&#x27;,\n",
       "       &#x27;volkswagen super beetle&#x27;, &#x27;volkswagen type 3&#x27;, &#x27;volvo 144ea&#x27;,\n",
       "       &#x27;volvo 145e (sw)&#x27;, &#x27;volvo 244dl&#x27;, &#x27;volvo 245&#x27;, &#x27;volvo 246&#x27;,\n",
       "       &#x27;volvo 264gl&#x27;, &#x27;volvo diesel&#x27;, &#x27;vw dasher&#x27;, &#x27;vw rabbit&#x27;],\n",
       "      dtype=object)])</pre></div></div></div></div></div></div><div class=\"sk-parallel-item\"><div class=\"sk-item\"><div class=\"sk-label-container\"><div class=\"sk-label sk-toggleable\"><input class=\"sk-toggleable__control sk-hidden--visually\" id=\"5071ecc8-5c66-468a-ab92-bc754e829beb\" type=\"checkbox\" ><label for=\"5071ecc8-5c66-468a-ab92-bc754e829beb\" class=\"sk-toggleable__label sk-toggleable__label-arrow\">remainder</label><div class=\"sk-toggleable__content\"><pre>[&#x27;wheelbase&#x27;, &#x27;carlength&#x27;, &#x27;carwidth&#x27;, &#x27;curbweight&#x27;, &#x27;enginesize&#x27;, &#x27;boreratio&#x27;, &#x27;horsepower&#x27;, &#x27;citympg&#x27;, &#x27;highwaympg&#x27;]</pre></div></div></div><div class=\"sk-serial\"><div class=\"sk-item\"><div class=\"sk-estimator sk-toggleable\"><input class=\"sk-toggleable__control sk-hidden--visually\" id=\"6d29927e-3bb5-456b-92b1-8741649f63e0\" type=\"checkbox\" ><label for=\"6d29927e-3bb5-456b-92b1-8741649f63e0\" class=\"sk-toggleable__label sk-toggleable__label-arrow\">passthrough</label><div class=\"sk-toggleable__content\"><pre>passthrough</pre></div></div></div></div></div></div></div></div><div class=\"sk-item\"><div class=\"sk-estimator sk-toggleable\"><input class=\"sk-toggleable__control sk-hidden--visually\" id=\"7c2b53e7-cdc3-40b7-8dc7-94bf41f1c3fd\" type=\"checkbox\" ><label for=\"7c2b53e7-cdc3-40b7-8dc7-94bf41f1c3fd\" class=\"sk-toggleable__label sk-toggleable__label-arrow\">DecisionTreeRegressor</label><div class=\"sk-toggleable__content\"><pre>DecisionTreeRegressor()</pre></div></div></div></div></div></div></div>"
      ],
      "text/plain": [
       "Pipeline(steps=[('columntransformer',\n",
       "                 ColumnTransformer(remainder='passthrough',\n",
       "                                   transformers=[('onehotencoder',\n",
       "                                                  OneHotEncoder(categories=[array(['diesel', 'gas'], dtype=object),\n",
       "                                                                            array(['std', 'turbo'], dtype=object),\n",
       "                                                                            array(['four', 'two'], dtype=object),\n",
       "                                                                            array(['convertible', 'hardtop', 'hatchback', 'sedan', 'wagon'],\n",
       "      dtype=object),\n",
       "                                                                            array(['fwd', 'rwd'], dtype=object...\n",
       "       'volkswagen super beetle', 'volkswagen type 3', 'volvo 144ea',\n",
       "       'volvo 145e (sw)', 'volvo 244dl', 'volvo 245', 'volvo 246',\n",
       "       'volvo 264gl', 'volvo diesel', 'vw dasher', 'vw rabbit'],\n",
       "      dtype=object)]),\n",
       "                                                  ['fueltype', 'aspiration',\n",
       "                                                   'doornumber', 'carbody',\n",
       "                                                   'drivewheel',\n",
       "                                                   'enginelocation',\n",
       "                                                   'enginetype',\n",
       "                                                   'cylindernumber',\n",
       "                                                   'fuelsystem',\n",
       "                                                   'CarName'])])),\n",
       "                ('decisiontreeregressor', DecisionTreeRegressor())])"
      ]
     },
     "execution_count": 21,
     "metadata": {},
     "output_type": "execute_result"
    }
   ],
   "source": [
    "from sklearn.tree import DecisionTreeRegressor\n",
    "\n",
    "dt = DecisionTreeRegressor()\n",
    "pipe_dt = make_pipeline(trf1, dt)\n",
    "\n",
    "pipe_dt.fit(X_train, y_train)"
   ]
  },
  {
   "cell_type": "code",
   "execution_count": 22,
   "id": "77a1d0ea",
   "metadata": {},
   "outputs": [],
   "source": [
    "y_predDT = pipe_dt.predict(X_test)"
   ]
  },
  {
   "cell_type": "code",
   "execution_count": 23,
   "id": "9e9fc75b",
   "metadata": {},
   "outputs": [
    {
     "data": {
      "text/plain": [
       "0.8611"
      ]
     },
     "execution_count": 23,
     "metadata": {},
     "output_type": "execute_result"
    }
   ],
   "source": [
    "r2_dt = metrics.r2_score(y_test, y_predDT).round(4)\n",
    "r2_dt"
   ]
  },
  {
   "cell_type": "code",
   "execution_count": 24,
   "id": "822f8af0",
   "metadata": {},
   "outputs": [
    {
     "name": "stdout",
     "output_type": "stream",
     "text": [
      "MAE = 3311.453 \n",
      "RMSE = 2125.943\n"
     ]
    }
   ],
   "source": [
    "RMSE_dt = metrics.mean_absolute_error(y_test, y_predDT).round(3)\n",
    "MAE_dt = np.sqrt( metrics.mean_squared_error(y_test, y_predDT)).round(3)\n",
    "print(f\"MAE = {MAE_dt} \\nRMSE = {RMSE_dt}\")"
   ]
  },
  {
   "cell_type": "markdown",
   "id": "547dcc76",
   "metadata": {},
   "source": [
    "## Random Forest Regressor"
   ]
  },
  {
   "cell_type": "code",
   "execution_count": 25,
   "id": "1c6002c7",
   "metadata": {},
   "outputs": [
    {
     "data": {
      "text/html": [
       "<style>#sk-ec397571-d25a-46f0-bef4-e2cc6dbf985c {color: black;background-color: white;}#sk-ec397571-d25a-46f0-bef4-e2cc6dbf985c pre{padding: 0;}#sk-ec397571-d25a-46f0-bef4-e2cc6dbf985c div.sk-toggleable {background-color: white;}#sk-ec397571-d25a-46f0-bef4-e2cc6dbf985c label.sk-toggleable__label {cursor: pointer;display: block;width: 100%;margin-bottom: 0;padding: 0.3em;box-sizing: border-box;text-align: center;}#sk-ec397571-d25a-46f0-bef4-e2cc6dbf985c label.sk-toggleable__label-arrow:before {content: \"▸\";float: left;margin-right: 0.25em;color: #696969;}#sk-ec397571-d25a-46f0-bef4-e2cc6dbf985c label.sk-toggleable__label-arrow:hover:before {color: black;}#sk-ec397571-d25a-46f0-bef4-e2cc6dbf985c div.sk-estimator:hover label.sk-toggleable__label-arrow:before {color: black;}#sk-ec397571-d25a-46f0-bef4-e2cc6dbf985c div.sk-toggleable__content {max-height: 0;max-width: 0;overflow: hidden;text-align: left;background-color: #f0f8ff;}#sk-ec397571-d25a-46f0-bef4-e2cc6dbf985c div.sk-toggleable__content pre {margin: 0.2em;color: black;border-radius: 0.25em;background-color: #f0f8ff;}#sk-ec397571-d25a-46f0-bef4-e2cc6dbf985c input.sk-toggleable__control:checked~div.sk-toggleable__content {max-height: 200px;max-width: 100%;overflow: auto;}#sk-ec397571-d25a-46f0-bef4-e2cc6dbf985c input.sk-toggleable__control:checked~label.sk-toggleable__label-arrow:before {content: \"▾\";}#sk-ec397571-d25a-46f0-bef4-e2cc6dbf985c div.sk-estimator input.sk-toggleable__control:checked~label.sk-toggleable__label {background-color: #d4ebff;}#sk-ec397571-d25a-46f0-bef4-e2cc6dbf985c div.sk-label input.sk-toggleable__control:checked~label.sk-toggleable__label {background-color: #d4ebff;}#sk-ec397571-d25a-46f0-bef4-e2cc6dbf985c input.sk-hidden--visually {border: 0;clip: rect(1px 1px 1px 1px);clip: rect(1px, 1px, 1px, 1px);height: 1px;margin: -1px;overflow: hidden;padding: 0;position: absolute;width: 1px;}#sk-ec397571-d25a-46f0-bef4-e2cc6dbf985c div.sk-estimator {font-family: monospace;background-color: #f0f8ff;border: 1px dotted black;border-radius: 0.25em;box-sizing: border-box;margin-bottom: 0.5em;}#sk-ec397571-d25a-46f0-bef4-e2cc6dbf985c div.sk-estimator:hover {background-color: #d4ebff;}#sk-ec397571-d25a-46f0-bef4-e2cc6dbf985c div.sk-parallel-item::after {content: \"\";width: 100%;border-bottom: 1px solid gray;flex-grow: 1;}#sk-ec397571-d25a-46f0-bef4-e2cc6dbf985c div.sk-label:hover label.sk-toggleable__label {background-color: #d4ebff;}#sk-ec397571-d25a-46f0-bef4-e2cc6dbf985c div.sk-serial::before {content: \"\";position: absolute;border-left: 1px solid gray;box-sizing: border-box;top: 2em;bottom: 0;left: 50%;}#sk-ec397571-d25a-46f0-bef4-e2cc6dbf985c div.sk-serial {display: flex;flex-direction: column;align-items: center;background-color: white;padding-right: 0.2em;padding-left: 0.2em;}#sk-ec397571-d25a-46f0-bef4-e2cc6dbf985c div.sk-item {z-index: 1;}#sk-ec397571-d25a-46f0-bef4-e2cc6dbf985c div.sk-parallel {display: flex;align-items: stretch;justify-content: center;background-color: white;}#sk-ec397571-d25a-46f0-bef4-e2cc6dbf985c div.sk-parallel::before {content: \"\";position: absolute;border-left: 1px solid gray;box-sizing: border-box;top: 2em;bottom: 0;left: 50%;}#sk-ec397571-d25a-46f0-bef4-e2cc6dbf985c div.sk-parallel-item {display: flex;flex-direction: column;position: relative;background-color: white;}#sk-ec397571-d25a-46f0-bef4-e2cc6dbf985c div.sk-parallel-item:first-child::after {align-self: flex-end;width: 50%;}#sk-ec397571-d25a-46f0-bef4-e2cc6dbf985c div.sk-parallel-item:last-child::after {align-self: flex-start;width: 50%;}#sk-ec397571-d25a-46f0-bef4-e2cc6dbf985c div.sk-parallel-item:only-child::after {width: 0;}#sk-ec397571-d25a-46f0-bef4-e2cc6dbf985c div.sk-dashed-wrapped {border: 1px dashed gray;margin: 0 0.4em 0.5em 0.4em;box-sizing: border-box;padding-bottom: 0.4em;background-color: white;position: relative;}#sk-ec397571-d25a-46f0-bef4-e2cc6dbf985c div.sk-label label {font-family: monospace;font-weight: bold;background-color: white;display: inline-block;line-height: 1.2em;}#sk-ec397571-d25a-46f0-bef4-e2cc6dbf985c div.sk-label-container {position: relative;z-index: 2;text-align: center;}#sk-ec397571-d25a-46f0-bef4-e2cc6dbf985c div.sk-container {/* jupyter's `normalize.less` sets `[hidden] { display: none; }` but bootstrap.min.css set `[hidden] { display: none !important; }` so we also need the `!important` here to be able to override the default hidden behavior on the sphinx rendered scikit-learn.org. See: https://github.com/scikit-learn/scikit-learn/issues/21755 */display: inline-block !important;position: relative;}#sk-ec397571-d25a-46f0-bef4-e2cc6dbf985c div.sk-text-repr-fallback {display: none;}</style><div id=\"sk-ec397571-d25a-46f0-bef4-e2cc6dbf985c\" class=\"sk-top-container\"><div class=\"sk-text-repr-fallback\"><pre>Pipeline(steps=[(&#x27;columntransformer&#x27;,\n",
       "                 ColumnTransformer(remainder=&#x27;passthrough&#x27;,\n",
       "                                   transformers=[(&#x27;onehotencoder&#x27;,\n",
       "                                                  OneHotEncoder(categories=[array([&#x27;diesel&#x27;, &#x27;gas&#x27;], dtype=object),\n",
       "                                                                            array([&#x27;std&#x27;, &#x27;turbo&#x27;], dtype=object),\n",
       "                                                                            array([&#x27;four&#x27;, &#x27;two&#x27;], dtype=object),\n",
       "                                                                            array([&#x27;convertible&#x27;, &#x27;hardtop&#x27;, &#x27;hatchback&#x27;, &#x27;sedan&#x27;, &#x27;wagon&#x27;],\n",
       "      dtype=object),\n",
       "                                                                            array([&#x27;fwd&#x27;, &#x27;rwd&#x27;], dtype=object...\n",
       "       &#x27;volkswagen super beetle&#x27;, &#x27;volkswagen type 3&#x27;, &#x27;volvo 144ea&#x27;,\n",
       "       &#x27;volvo 145e (sw)&#x27;, &#x27;volvo 244dl&#x27;, &#x27;volvo 245&#x27;, &#x27;volvo 246&#x27;,\n",
       "       &#x27;volvo 264gl&#x27;, &#x27;volvo diesel&#x27;, &#x27;vw dasher&#x27;, &#x27;vw rabbit&#x27;],\n",
       "      dtype=object)]),\n",
       "                                                  [&#x27;fueltype&#x27;, &#x27;aspiration&#x27;,\n",
       "                                                   &#x27;doornumber&#x27;, &#x27;carbody&#x27;,\n",
       "                                                   &#x27;drivewheel&#x27;,\n",
       "                                                   &#x27;enginelocation&#x27;,\n",
       "                                                   &#x27;enginetype&#x27;,\n",
       "                                                   &#x27;cylindernumber&#x27;,\n",
       "                                                   &#x27;fuelsystem&#x27;,\n",
       "                                                   &#x27;CarName&#x27;])])),\n",
       "                (&#x27;randomforestregressor&#x27;,\n",
       "                 RandomForestRegressor(random_state=0))])</pre><b>Please rerun this cell to show the HTML repr or trust the notebook.</b></div><div class=\"sk-container\" hidden><div class=\"sk-item sk-dashed-wrapped\"><div class=\"sk-label-container\"><div class=\"sk-label sk-toggleable\"><input class=\"sk-toggleable__control sk-hidden--visually\" id=\"29e26553-c280-494d-8531-77776e90f478\" type=\"checkbox\" ><label for=\"29e26553-c280-494d-8531-77776e90f478\" class=\"sk-toggleable__label sk-toggleable__label-arrow\">Pipeline</label><div class=\"sk-toggleable__content\"><pre>Pipeline(steps=[(&#x27;columntransformer&#x27;,\n",
       "                 ColumnTransformer(remainder=&#x27;passthrough&#x27;,\n",
       "                                   transformers=[(&#x27;onehotencoder&#x27;,\n",
       "                                                  OneHotEncoder(categories=[array([&#x27;diesel&#x27;, &#x27;gas&#x27;], dtype=object),\n",
       "                                                                            array([&#x27;std&#x27;, &#x27;turbo&#x27;], dtype=object),\n",
       "                                                                            array([&#x27;four&#x27;, &#x27;two&#x27;], dtype=object),\n",
       "                                                                            array([&#x27;convertible&#x27;, &#x27;hardtop&#x27;, &#x27;hatchback&#x27;, &#x27;sedan&#x27;, &#x27;wagon&#x27;],\n",
       "      dtype=object),\n",
       "                                                                            array([&#x27;fwd&#x27;, &#x27;rwd&#x27;], dtype=object...\n",
       "       &#x27;volkswagen super beetle&#x27;, &#x27;volkswagen type 3&#x27;, &#x27;volvo 144ea&#x27;,\n",
       "       &#x27;volvo 145e (sw)&#x27;, &#x27;volvo 244dl&#x27;, &#x27;volvo 245&#x27;, &#x27;volvo 246&#x27;,\n",
       "       &#x27;volvo 264gl&#x27;, &#x27;volvo diesel&#x27;, &#x27;vw dasher&#x27;, &#x27;vw rabbit&#x27;],\n",
       "      dtype=object)]),\n",
       "                                                  [&#x27;fueltype&#x27;, &#x27;aspiration&#x27;,\n",
       "                                                   &#x27;doornumber&#x27;, &#x27;carbody&#x27;,\n",
       "                                                   &#x27;drivewheel&#x27;,\n",
       "                                                   &#x27;enginelocation&#x27;,\n",
       "                                                   &#x27;enginetype&#x27;,\n",
       "                                                   &#x27;cylindernumber&#x27;,\n",
       "                                                   &#x27;fuelsystem&#x27;,\n",
       "                                                   &#x27;CarName&#x27;])])),\n",
       "                (&#x27;randomforestregressor&#x27;,\n",
       "                 RandomForestRegressor(random_state=0))])</pre></div></div></div><div class=\"sk-serial\"><div class=\"sk-item sk-dashed-wrapped\"><div class=\"sk-label-container\"><div class=\"sk-label sk-toggleable\"><input class=\"sk-toggleable__control sk-hidden--visually\" id=\"1768ac9e-26a1-46b0-9ecd-b6257bf5365c\" type=\"checkbox\" ><label for=\"1768ac9e-26a1-46b0-9ecd-b6257bf5365c\" class=\"sk-toggleable__label sk-toggleable__label-arrow\">columntransformer: ColumnTransformer</label><div class=\"sk-toggleable__content\"><pre>ColumnTransformer(remainder=&#x27;passthrough&#x27;,\n",
       "                  transformers=[(&#x27;onehotencoder&#x27;,\n",
       "                                 OneHotEncoder(categories=[array([&#x27;diesel&#x27;, &#x27;gas&#x27;], dtype=object),\n",
       "                                                           array([&#x27;std&#x27;, &#x27;turbo&#x27;], dtype=object),\n",
       "                                                           array([&#x27;four&#x27;, &#x27;two&#x27;], dtype=object),\n",
       "                                                           array([&#x27;convertible&#x27;, &#x27;hardtop&#x27;, &#x27;hatchback&#x27;, &#x27;sedan&#x27;, &#x27;wagon&#x27;],\n",
       "      dtype=object),\n",
       "                                                           array([&#x27;fwd&#x27;, &#x27;rwd&#x27;], dtype=object),\n",
       "                                                           array([&#x27;front&#x27;, &#x27;rear&#x27;], dtype=object...\n",
       "       &#x27;volkswagen rabbit&#x27;, &#x27;volkswagen rabbit custom&#x27;,\n",
       "       &#x27;volkswagen super beetle&#x27;, &#x27;volkswagen type 3&#x27;, &#x27;volvo 144ea&#x27;,\n",
       "       &#x27;volvo 145e (sw)&#x27;, &#x27;volvo 244dl&#x27;, &#x27;volvo 245&#x27;, &#x27;volvo 246&#x27;,\n",
       "       &#x27;volvo 264gl&#x27;, &#x27;volvo diesel&#x27;, &#x27;vw dasher&#x27;, &#x27;vw rabbit&#x27;],\n",
       "      dtype=object)]),\n",
       "                                 [&#x27;fueltype&#x27;, &#x27;aspiration&#x27;, &#x27;doornumber&#x27;,\n",
       "                                  &#x27;carbody&#x27;, &#x27;drivewheel&#x27;, &#x27;enginelocation&#x27;,\n",
       "                                  &#x27;enginetype&#x27;, &#x27;cylindernumber&#x27;, &#x27;fuelsystem&#x27;,\n",
       "                                  &#x27;CarName&#x27;])])</pre></div></div></div><div class=\"sk-parallel\"><div class=\"sk-parallel-item\"><div class=\"sk-item\"><div class=\"sk-label-container\"><div class=\"sk-label sk-toggleable\"><input class=\"sk-toggleable__control sk-hidden--visually\" id=\"da00297c-e9df-4e1b-9cb6-7ed152262a52\" type=\"checkbox\" ><label for=\"da00297c-e9df-4e1b-9cb6-7ed152262a52\" class=\"sk-toggleable__label sk-toggleable__label-arrow\">onehotencoder</label><div class=\"sk-toggleable__content\"><pre>[&#x27;fueltype&#x27;, &#x27;aspiration&#x27;, &#x27;doornumber&#x27;, &#x27;carbody&#x27;, &#x27;drivewheel&#x27;, &#x27;enginelocation&#x27;, &#x27;enginetype&#x27;, &#x27;cylindernumber&#x27;, &#x27;fuelsystem&#x27;, &#x27;CarName&#x27;]</pre></div></div></div><div class=\"sk-serial\"><div class=\"sk-item\"><div class=\"sk-estimator sk-toggleable\"><input class=\"sk-toggleable__control sk-hidden--visually\" id=\"a755a49f-622a-4a72-b27d-f8f6ac568670\" type=\"checkbox\" ><label for=\"a755a49f-622a-4a72-b27d-f8f6ac568670\" class=\"sk-toggleable__label sk-toggleable__label-arrow\">OneHotEncoder</label><div class=\"sk-toggleable__content\"><pre>OneHotEncoder(categories=[array([&#x27;diesel&#x27;, &#x27;gas&#x27;], dtype=object),\n",
       "                          array([&#x27;std&#x27;, &#x27;turbo&#x27;], dtype=object),\n",
       "                          array([&#x27;four&#x27;, &#x27;two&#x27;], dtype=object),\n",
       "                          array([&#x27;convertible&#x27;, &#x27;hardtop&#x27;, &#x27;hatchback&#x27;, &#x27;sedan&#x27;, &#x27;wagon&#x27;],\n",
       "      dtype=object),\n",
       "                          array([&#x27;fwd&#x27;, &#x27;rwd&#x27;], dtype=object),\n",
       "                          array([&#x27;front&#x27;, &#x27;rear&#x27;], dtype=object),\n",
       "                          array([&#x27;dohc&#x27;, &#x27;dohcv&#x27;, &#x27;l&#x27;, &#x27;ohc&#x27;, &#x27;ohcf&#x27;, &#x27;ohcv&#x27;, &#x27;rotor&#x27;], dtype=object),\n",
       "                          ar...\n",
       "       &#x27;toyota starlet&#x27;, &#x27;toyota tercel&#x27;, &#x27;toyouta tercel&#x27;,\n",
       "       &#x27;vokswagen rabbit&#x27;, &#x27;volkswagen 1131 deluxe sedan&#x27;,\n",
       "       &#x27;volkswagen 411 (sw)&#x27;, &#x27;volkswagen dasher&#x27;, &#x27;volkswagen model 111&#x27;,\n",
       "       &#x27;volkswagen rabbit&#x27;, &#x27;volkswagen rabbit custom&#x27;,\n",
       "       &#x27;volkswagen super beetle&#x27;, &#x27;volkswagen type 3&#x27;, &#x27;volvo 144ea&#x27;,\n",
       "       &#x27;volvo 145e (sw)&#x27;, &#x27;volvo 244dl&#x27;, &#x27;volvo 245&#x27;, &#x27;volvo 246&#x27;,\n",
       "       &#x27;volvo 264gl&#x27;, &#x27;volvo diesel&#x27;, &#x27;vw dasher&#x27;, &#x27;vw rabbit&#x27;],\n",
       "      dtype=object)])</pre></div></div></div></div></div></div><div class=\"sk-parallel-item\"><div class=\"sk-item\"><div class=\"sk-label-container\"><div class=\"sk-label sk-toggleable\"><input class=\"sk-toggleable__control sk-hidden--visually\" id=\"9e2ad660-7ca1-401c-888e-5c71844f69b1\" type=\"checkbox\" ><label for=\"9e2ad660-7ca1-401c-888e-5c71844f69b1\" class=\"sk-toggleable__label sk-toggleable__label-arrow\">remainder</label><div class=\"sk-toggleable__content\"><pre>[&#x27;wheelbase&#x27;, &#x27;carlength&#x27;, &#x27;carwidth&#x27;, &#x27;curbweight&#x27;, &#x27;enginesize&#x27;, &#x27;boreratio&#x27;, &#x27;horsepower&#x27;, &#x27;citympg&#x27;, &#x27;highwaympg&#x27;]</pre></div></div></div><div class=\"sk-serial\"><div class=\"sk-item\"><div class=\"sk-estimator sk-toggleable\"><input class=\"sk-toggleable__control sk-hidden--visually\" id=\"5de29504-d18b-4736-a81f-b36cb437ef28\" type=\"checkbox\" ><label for=\"5de29504-d18b-4736-a81f-b36cb437ef28\" class=\"sk-toggleable__label sk-toggleable__label-arrow\">passthrough</label><div class=\"sk-toggleable__content\"><pre>passthrough</pre></div></div></div></div></div></div></div></div><div class=\"sk-item\"><div class=\"sk-estimator sk-toggleable\"><input class=\"sk-toggleable__control sk-hidden--visually\" id=\"43edb3bb-9f4f-45a0-b3fb-87fdd39aaf61\" type=\"checkbox\" ><label for=\"43edb3bb-9f4f-45a0-b3fb-87fdd39aaf61\" class=\"sk-toggleable__label sk-toggleable__label-arrow\">RandomForestRegressor</label><div class=\"sk-toggleable__content\"><pre>RandomForestRegressor(random_state=0)</pre></div></div></div></div></div></div></div>"
      ],
      "text/plain": [
       "Pipeline(steps=[('columntransformer',\n",
       "                 ColumnTransformer(remainder='passthrough',\n",
       "                                   transformers=[('onehotencoder',\n",
       "                                                  OneHotEncoder(categories=[array(['diesel', 'gas'], dtype=object),\n",
       "                                                                            array(['std', 'turbo'], dtype=object),\n",
       "                                                                            array(['four', 'two'], dtype=object),\n",
       "                                                                            array(['convertible', 'hardtop', 'hatchback', 'sedan', 'wagon'],\n",
       "      dtype=object),\n",
       "                                                                            array(['fwd', 'rwd'], dtype=object...\n",
       "       'volkswagen super beetle', 'volkswagen type 3', 'volvo 144ea',\n",
       "       'volvo 145e (sw)', 'volvo 244dl', 'volvo 245', 'volvo 246',\n",
       "       'volvo 264gl', 'volvo diesel', 'vw dasher', 'vw rabbit'],\n",
       "      dtype=object)]),\n",
       "                                                  ['fueltype', 'aspiration',\n",
       "                                                   'doornumber', 'carbody',\n",
       "                                                   'drivewheel',\n",
       "                                                   'enginelocation',\n",
       "                                                   'enginetype',\n",
       "                                                   'cylindernumber',\n",
       "                                                   'fuelsystem',\n",
       "                                                   'CarName'])])),\n",
       "                ('randomforestregressor',\n",
       "                 RandomForestRegressor(random_state=0))])"
      ]
     },
     "execution_count": 25,
     "metadata": {},
     "output_type": "execute_result"
    }
   ],
   "source": [
    "from sklearn.ensemble import RandomForestRegressor\n",
    "\n",
    "rf = RandomForestRegressor(random_state=0)\n",
    "pipe_rf = make_pipeline(trf1, rf)\n",
    "\n",
    "pipe_rf.fit(X_train, y_train)"
   ]
  },
  {
   "cell_type": "code",
   "execution_count": 26,
   "id": "e44fcec1",
   "metadata": {},
   "outputs": [],
   "source": [
    "y_predRF = pipe_rf.predict(X_test)"
   ]
  },
  {
   "cell_type": "code",
   "execution_count": 27,
   "id": "4cfac54a",
   "metadata": {},
   "outputs": [
    {
     "data": {
      "text/plain": [
       "0.9528"
      ]
     },
     "execution_count": 27,
     "metadata": {},
     "output_type": "execute_result"
    }
   ],
   "source": [
    "r2_rf = metrics.r2_score(y_test, y_predRF).round(4)\n",
    "r2_rf"
   ]
  },
  {
   "cell_type": "code",
   "execution_count": 28,
   "id": "1d429964",
   "metadata": {},
   "outputs": [
    {
     "name": "stdout",
     "output_type": "stream",
     "text": [
      "MAE = 1930.629 \n",
      "RMSE = 1360.637\n"
     ]
    }
   ],
   "source": [
    "RMSE_rf = metrics.mean_absolute_error(y_test, y_predRF).round(3)\n",
    "MAE_rf = np.sqrt(metrics.mean_squared_error(y_test, y_predRF)).round(3)\n",
    "print(f\"MAE = {MAE_rf} \\nRMSE = {RMSE_rf}\")"
   ]
  },
  {
   "cell_type": "markdown",
   "id": "2f8f078a",
   "metadata": {},
   "source": [
    "## Conclusion"
   ]
  },
  {
   "cell_type": "code",
   "execution_count": 29,
   "id": "09535067",
   "metadata": {},
   "outputs": [
    {
     "data": {
      "text/html": [
       "<div>\n",
       "<style scoped>\n",
       "    .dataframe tbody tr th:only-of-type {\n",
       "        vertical-align: middle;\n",
       "    }\n",
       "\n",
       "    .dataframe tbody tr th {\n",
       "        vertical-align: top;\n",
       "    }\n",
       "\n",
       "    .dataframe thead th {\n",
       "        text-align: right;\n",
       "    }\n",
       "</style>\n",
       "<table border=\"1\" class=\"dataframe\">\n",
       "  <thead>\n",
       "    <tr style=\"text-align: right;\">\n",
       "      <th></th>\n",
       "      <th>R2 Score</th>\n",
       "      <th>MAE</th>\n",
       "      <th>RMSE</th>\n",
       "    </tr>\n",
       "  </thead>\n",
       "  <tbody>\n",
       "    <tr>\n",
       "      <th>Logistic Regression</th>\n",
       "      <td>0.6310</td>\n",
       "      <td>5397.359</td>\n",
       "      <td>3345.587</td>\n",
       "    </tr>\n",
       "    <tr>\n",
       "      <th>Decision Tree</th>\n",
       "      <td>0.8611</td>\n",
       "      <td>3311.453</td>\n",
       "      <td>2125.943</td>\n",
       "    </tr>\n",
       "    <tr>\n",
       "      <th>Fandom Forest</th>\n",
       "      <td>0.9528</td>\n",
       "      <td>1930.629</td>\n",
       "      <td>1360.637</td>\n",
       "    </tr>\n",
       "  </tbody>\n",
       "</table>\n",
       "</div>"
      ],
      "text/plain": [
       "                     R2 Score       MAE      RMSE\n",
       "Logistic Regression    0.6310  5397.359  3345.587\n",
       "Decision Tree          0.8611  3311.453  2125.943\n",
       "Fandom Forest          0.9528  1930.629  1360.637"
      ]
     },
     "execution_count": 29,
     "metadata": {},
     "output_type": "execute_result"
    }
   ],
   "source": [
    "pd.DataFrame(data=[[r2_lm, MAE_lm, RMSE_lm], [r2_dt, MAE_dt, RMSE_dt], [r2_rf, MAE_rf, RMSE_rf]], \n",
    "             index=['Logistic Regression',\"Decision Tree\", \"Fandom Forest\"], \n",
    "             columns=[\"R2 Score\", \"MAE\", \"RMSE\"])"
   ]
  },
  {
   "cell_type": "code",
   "execution_count": null,
   "id": "ec880fe1",
   "metadata": {},
   "outputs": [],
   "source": []
  }
 ],
 "metadata": {
  "kernelspec": {
   "display_name": "Python 3 (ipykernel)",
   "language": "python",
   "name": "python3"
  },
  "language_info": {
   "codemirror_mode": {
    "name": "ipython",
    "version": 3
   },
   "file_extension": ".py",
   "mimetype": "text/x-python",
   "name": "python",
   "nbconvert_exporter": "python",
   "pygments_lexer": "ipython3",
   "version": "3.9.13"
  }
 },
 "nbformat": 4,
 "nbformat_minor": 5
}
